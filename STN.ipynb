{
 "cells": [
  {
   "cell_type": "markdown",
   "id": "e1628a26",
   "metadata": {},
   "source": [
    "# SPATIAL TRANSFORMER NETWORKS "
   ]
  },
  {
   "cell_type": "markdown",
   "id": "4aa2a4e9",
   "metadata": {},
   "source": [
    "The idea of spatial transformer networks or STNs was introduced by DeepMind, it makes use of image transformations specifically, Affine Transformation to transform the image feature map. We can also say that spatial transformer networks are a generalization of differentiable attention to any spatial transformation.  Spatial transformer networks (STNs) teach a neural network how to make spatial transformations on an input image to improve the model's geometric invariance. It can, for example, crop a specific area of interest, scale, and rotate an image. Because CNNs are not invariant to rotation, scaling, and other affine transformations, it can be a valuable method. Further details can be explored in the paper Spatial Transformer Networks (https://arxiv.org/abs/1506.02025)\n",
    "\n",
    "One of the best features of STN is that it can be easily integrated into any existing CNN."
   ]
  },
  {
   "cell_type": "code",
   "execution_count": 25,
   "id": "f047d558",
   "metadata": {},
   "outputs": [
    {
     "data": {
      "text/html": [
       "<img src=\"stn.png\"/>"
      ],
      "text/plain": [
       "<IPython.core.display.Image object>"
      ]
     },
     "execution_count": 25,
     "metadata": {},
     "output_type": "execute_result"
    }
   ],
   "source": [
    "from IPython.display import Image\n",
    "Image(url= \"stn.png\")"
   ]
  },
  {
   "cell_type": "markdown",
   "id": "7458056e",
   "metadata": {},
   "source": [
    "Now let's see these networks in working. "
   ]
  },
  {
   "cell_type": "markdown",
   "id": "101e3402",
   "metadata": {},
   "source": [
    "# Importing The Required Liberaries of PyTorch."
   ]
  },
  {
   "cell_type": "code",
   "execution_count": 1,
   "id": "bc7c2ceb",
   "metadata": {},
   "outputs": [],
   "source": [
    "from __future__ import print_function\n",
    "import torch\n",
    "import torch.nn as nn\n",
    "import torch.nn.functional as F\n",
    "import torch.optim as optim\n",
    "import os\n",
    "import torch.nn.modules.conv as conv\n",
    "import torch.utils.data as utils\n",
    "from torch.autograd import Variable\n",
    "import torchvision\n",
    "from torchvision import datasets, transforms\n",
    "import matplotlib.pyplot as plt\n",
    "import numpy as np\n",
    "from sklearn.metrics import precision_recall_fscore_support\n",
    "plt.ion() "
   ]
  },
  {
   "cell_type": "markdown",
   "id": "14963e70",
   "metadata": {},
   "source": [
    "# Loading The Data"
   ]
  },
  {
   "cell_type": "markdown",
   "id": "b20fb8c4",
   "metadata": {},
   "source": [
    "The dataset we have used in our experiments is MNIST dataset. The MNIST database of handwritten digits, has a training set of 60,000 examples, and a test set of 10,000 examples. It is a subset of a larger set available from NIST. The digits have been size-normalized and centered in a fixed-size image."
   ]
  },
  {
   "cell_type": "code",
   "execution_count": 26,
   "id": "417e6a92",
   "metadata": {},
   "outputs": [
    {
     "data": {
      "text/html": [
       "<img src=\"mnist.png\"/>"
      ],
      "text/plain": [
       "<IPython.core.display.Image object>"
      ]
     },
     "execution_count": 26,
     "metadata": {},
     "output_type": "execute_result"
    }
   ],
   "source": [
    "Image(url= \"mnist.png\")"
   ]
  },
  {
   "cell_type": "code",
   "execution_count": 2,
   "id": "b494fc2b",
   "metadata": {},
   "outputs": [],
   "source": [
    "from six.moves import urllib\n",
    "opener = urllib.request.build_opener()\n",
    "opener.addheaders = [('User-agent', 'Mozilla/5.0')]\n",
    "urllib.request.install_opener(opener)\n",
    "\n",
    "device = torch.device(\"cuda\" if torch.cuda.is_available() else \"cpu\")\n",
    "\n",
    "# Training dataset\n",
    "train_loader = torch.utils.data.DataLoader(\n",
    "    datasets.MNIST(root='.', train=True, download=True,\n",
    "                   transform=transforms.Compose([\n",
    "                       transforms.ToTensor(),\n",
    "                       transforms.ColorJitter(),\n",
    "                       transforms.Normalize((0.1307,), (0.3081,))\n",
    "                   ])), batch_size=64, shuffle=True, num_workers=4)\n",
    "# Test dataset\n",
    "test_loader = torch.utils.data.DataLoader(\n",
    "    datasets.MNIST(root='.', train=False, transform=transforms.Compose([\n",
    "        transforms.ToTensor(),\n",
    "        transforms.Normalize((0.1307,), (0.3081,))\n",
    "    ])), batch_size=64, shuffle=True, num_workers=4)"
   ]
  },
  {
   "cell_type": "markdown",
   "id": "c490aff9",
   "metadata": {},
   "source": [
    "# Spatial Transformer Networks Used"
   ]
  },
  {
   "cell_type": "markdown",
   "id": "90ec1bf0",
   "metadata": {},
   "source": [
    "There are three fundamental components to spatial transformer networks: \n",
    "\n",
    "1. The transformation parameters are regressed by the localization network, which is a normal CNN. The network learns the spatial transformations automatically, which improves the global accuracy, rather than learning them explicitly from this dataset. \n",
    "2. The grid generator creates a grid in the input image that corresponds to each pixel in the output image. \n",
    "3. The sampler takes the transformation's parameters and applies them to the input image."
   ]
  },
  {
   "cell_type": "markdown",
   "id": "81c745e1",
   "metadata": {},
   "source": [
    "Here the network we have used contains two 2D convolution layers followed by dropout and linear units."
   ]
  },
  {
   "cell_type": "code",
   "execution_count": 3,
   "id": "328a97f6",
   "metadata": {},
   "outputs": [],
   "source": [
    "class Net(nn.Module):\n",
    "    def __init__(self):\n",
    "        super(Net, self).__init__()\n",
    "        self.conv1 = nn.Conv2d(1, 10, kernel_size=5)\n",
    "        self.conv2 = nn.Conv2d(10, 20, kernel_size=5)\n",
    "        self.conv2_drop = nn.Dropout2d()\n",
    "        self.fc1 = nn.Linear(320, 50)\n",
    "        self.fc2 = nn.Linear(50, 10)\n",
    "\n",
    "        # Spatial transformer localization-network\n",
    "        self.localization = nn.Sequential(\n",
    "            nn.Conv2d(1, 8, kernel_size=7),\n",
    "            nn.MaxPool2d(2, stride=2),\n",
    "            nn.ReLU(True),\n",
    "            nn.Conv2d(8, 10, kernel_size=5),\n",
    "            nn.MaxPool2d(2, stride=2),\n",
    "            nn.ReLU(True)\n",
    "        )\n",
    "\n",
    "        # Regressor for the 3 * 2 affine matrix\n",
    "        self.fc_loc = nn.Sequential(\n",
    "            nn.Linear(10 * 3 * 3, 32),\n",
    "            nn.ReLU(True),\n",
    "            nn.Linear(32, 3 * 2)\n",
    "        )\n",
    "\n",
    "        # Initialize the weights/bias with identity transformation\n",
    "        self.fc_loc[2].weight.data.zero_()\n",
    "        self.fc_loc[2].bias.data.copy_(torch.tensor([1, 0, 0, 0, 1, 0], dtype=torch.float))\n",
    "\n",
    "    # Spatial transformer network forward function\n",
    "    def stn(self, x):\n",
    "        xs = self.localization(x)\n",
    "        xs = xs.view(-1, 10 * 3 * 3)\n",
    "        theta = self.fc_loc(xs)\n",
    "        theta = theta.view(-1, 2, 3)\n",
    "\n",
    "        grid = F.affine_grid(theta, x.size())\n",
    "        x = F.grid_sample(x, grid)\n",
    "\n",
    "        return x\n",
    "\n",
    "    def forward(self, x):\n",
    "        # transform the input\n",
    "        x = self.stn(x)\n",
    "\n",
    "        # Perform the usual forward pass\n",
    "        x = F.relu(F.max_pool2d(self.conv1(x), 2))\n",
    "        x = F.relu(F.max_pool2d(self.conv2_drop(self.conv2(x)), 2))\n",
    "        x = x.view(-1, 320)\n",
    "        x = F.relu(self.fc1(x))\n",
    "        x = F.dropout(x, training=self.training)\n",
    "        x = self.fc2(x)\n",
    "\n",
    "        return F.log_softmax(x, dim=1)\n",
    "\n",
    "\n",
    "model = Net().to(device)"
   ]
  },
  {
   "cell_type": "markdown",
   "id": "167a28bb",
   "metadata": {},
   "source": [
    "# Training The Model"
   ]
  },
  {
   "cell_type": "markdown",
   "id": "cac2d68c",
   "metadata": {},
   "source": [
    "Let's now train the model with the SGD technique. The network is supervised in its categorization task learning. Simultaneously, the model is learning STN in a complete end-to-end manner."
   ]
  },
  {
   "cell_type": "code",
   "execution_count": 4,
   "id": "edb8a697",
   "metadata": {},
   "outputs": [],
   "source": [
    "optimizer = optim.SGD(model.parameters(), lr=0.01)\n",
    "\n",
    "def train(epoch):\n",
    "    model.train()\n",
    "    for batch_idx, (data, target) in enumerate(train_loader):\n",
    "        data, target = data.to(device), target.to(device)\n",
    "\n",
    "        optimizer.zero_grad()\n",
    "        output = model(data)\n",
    "        loss = F.nll_loss(output, target)\n",
    "        loss.backward()\n",
    "        optimizer.step()\n",
    "        if batch_idx % 500 == 0:\n",
    "            print('Train Epoch: {} [{}/{} ({:.0f}%)]\\tLoss: {:.6f}'.format(\n",
    "                epoch, batch_idx * len(data), len(train_loader.dataset),\n",
    "                100. * batch_idx / len(train_loader), loss.item()))"
   ]
  },
  {
   "cell_type": "markdown",
   "id": "55e1e310",
   "metadata": {},
   "source": [
    "# Testing The Model"
   ]
  },
  {
   "cell_type": "markdown",
   "id": "e52a019e",
   "metadata": {},
   "source": [
    "A simple test procedure to measure the STN performances on MNIST."
   ]
  },
  {
   "cell_type": "code",
   "execution_count": 5,
   "id": "d4caebca",
   "metadata": {},
   "outputs": [],
   "source": [
    "def test():\n",
    "    with torch.no_grad():\n",
    "        model.eval()\n",
    "        test_loss = 0\n",
    "        correct = 0\n",
    "        y_pred = []\n",
    "        y_true = []\n",
    "        for data, target in test_loader:\n",
    "            data, target = data.to(device), target.to(device)\n",
    "            output = model(data)\n",
    "\n",
    "            # sum up batch loss\n",
    "            test_loss += F.nll_loss(output, target, size_average=False).item()\n",
    "            # get the index of the max log-probability\n",
    "            pred = output.max(1, keepdim=True)[1]\n",
    "            correct += pred.eq(target.view_as(pred)).sum().item()\n",
    "\n",
    "            y_pred.append(pred)\n",
    "            y_true.append(target.view_as(pred))\n",
    "        y_pred = np.squeeze(torch.cat(y_pred, dim=0).detach().cpu().numpy(), axis=1)\n",
    "        y_true = np.squeeze(torch.cat(y_true, dim=0).detach().cpu().numpy(), axis=1)\n",
    "\n",
    "        test_loss /= len(test_loader.dataset)\n",
    "        print('\\nTest set: Average loss: {:.4f}, Accuracy: {}/{} ({:.0f}%)\\n'\n",
    "              .format(test_loss, correct, len(test_loader.dataset),\n",
    "                      100. * correct / len(test_loader.dataset)))\n",
    "        \n",
    "        # Evaluating precision, recall, f1_score and support.\n",
    "        p, r, f1, sp = precision_recall_fscore_support(y_true, y_pred)\n",
    "        precision = np.mean(p, axis=None, dtype=None) \n",
    "        recall = np.mean(r, axis=None, dtype=None)\n",
    "        f1_score = np.mean(f1, axis=None, dtype=None)\n",
    "        support = np.mean(sp, axis=None, dtype=None)\n",
    "\n",
    "        print('\\Other evaluation metrics on test set: Precision: {}, Recall: {}, F1_Score: {}'\n",
    "              .format(precision, recall, f1_score))"
   ]
  },
  {
   "cell_type": "markdown",
   "id": "3e6304f8",
   "metadata": {},
   "source": [
    "# Visualizing The STN Results"
   ]
  },
  {
   "cell_type": "markdown",
   "id": "7442bda4",
   "metadata": {},
   "source": [
    "Now we'll look at the outcomes of our newly acquired visual attention mechanism. \n",
    "\n",
    "To view the transformations while training, we construct a tiny helper function."
   ]
  },
  {
   "cell_type": "code",
   "execution_count": 6,
   "id": "a1ff4bf0",
   "metadata": {},
   "outputs": [
    {
     "name": "stderr",
     "output_type": "stream",
     "text": [
      "/Users/siddhantbhambri/anaconda3/envs/env5/lib/python3.7/site-packages/torch/nn/functional.py:3448: UserWarning: Default grid_sample and affine_grid behavior has changed to align_corners=False since 1.3.0. Please specify align_corners=True if the old behavior is desired. See the documentation of grid_sample for details.\n",
      "  warnings.warn(\"Default grid_sample and affine_grid behavior has changed \"\n",
      "/Users/siddhantbhambri/anaconda3/envs/env5/lib/python3.7/site-packages/torch/nn/functional.py:3385: UserWarning: Default grid_sample and affine_grid behavior has changed to align_corners=False since 1.3.0. Please specify align_corners=True if the old behavior is desired. See the documentation of grid_sample for details.\n",
      "  warnings.warn(\"Default grid_sample and affine_grid behavior has changed \"\n"
     ]
    },
    {
     "name": "stdout",
     "output_type": "stream",
     "text": [
      "Train Epoch: 1 [0/60000 (0%)]\tLoss: 2.322321\n",
      "Train Epoch: 1 [32000/60000 (53%)]\tLoss: 0.739063\n"
     ]
    },
    {
     "name": "stderr",
     "output_type": "stream",
     "text": [
      "/Users/siddhantbhambri/anaconda3/envs/env5/lib/python3.7/site-packages/torch/nn/_reduction.py:44: UserWarning: size_average and reduce args will be deprecated, please use reduction='sum' instead.\n",
      "  warnings.warn(warning.format(ret))\n"
     ]
    },
    {
     "name": "stdout",
     "output_type": "stream",
     "text": [
      "\n",
      "Test set: Average loss: 0.2255, Accuracy: 9344/10000 (93%)\n",
      "\n",
      "\\Other evaluation metrics on test set: Precision: 0.9344505810099226, Recall: 0.9337520855087857, F1_Score: 0.933748487189489\n"
     ]
    },
    {
     "name": "stderr",
     "output_type": "stream",
     "text": [
      "/Users/siddhantbhambri/anaconda3/envs/env5/lib/python3.7/site-packages/torch/nn/functional.py:3448: UserWarning: Default grid_sample and affine_grid behavior has changed to align_corners=False since 1.3.0. Please specify align_corners=True if the old behavior is desired. See the documentation of grid_sample for details.\n",
      "  warnings.warn(\"Default grid_sample and affine_grid behavior has changed \"\n",
      "/Users/siddhantbhambri/anaconda3/envs/env5/lib/python3.7/site-packages/torch/nn/functional.py:3385: UserWarning: Default grid_sample and affine_grid behavior has changed to align_corners=False since 1.3.0. Please specify align_corners=True if the old behavior is desired. See the documentation of grid_sample for details.\n",
      "  warnings.warn(\"Default grid_sample and affine_grid behavior has changed \"\n"
     ]
    },
    {
     "name": "stdout",
     "output_type": "stream",
     "text": [
      "Train Epoch: 2 [0/60000 (0%)]\tLoss: 0.436963\n",
      "Train Epoch: 2 [32000/60000 (53%)]\tLoss: 0.358171\n"
     ]
    },
    {
     "name": "stderr",
     "output_type": "stream",
     "text": [
      "/Users/siddhantbhambri/anaconda3/envs/env5/lib/python3.7/site-packages/torch/nn/_reduction.py:44: UserWarning: size_average and reduce args will be deprecated, please use reduction='sum' instead.\n",
      "  warnings.warn(warning.format(ret))\n"
     ]
    },
    {
     "name": "stdout",
     "output_type": "stream",
     "text": [
      "\n",
      "Test set: Average loss: 0.1188, Accuracy: 9658/10000 (97%)\n",
      "\n",
      "\\Other evaluation metrics on test set: Precision: 0.9656672597261797, Recall: 0.9655159768138395, F1_Score: 0.9654960673558459\n"
     ]
    },
    {
     "name": "stderr",
     "output_type": "stream",
     "text": [
      "/Users/siddhantbhambri/anaconda3/envs/env5/lib/python3.7/site-packages/torch/nn/functional.py:3448: UserWarning: Default grid_sample and affine_grid behavior has changed to align_corners=False since 1.3.0. Please specify align_corners=True if the old behavior is desired. See the documentation of grid_sample for details.\n",
      "  warnings.warn(\"Default grid_sample and affine_grid behavior has changed \"\n",
      "/Users/siddhantbhambri/anaconda3/envs/env5/lib/python3.7/site-packages/torch/nn/functional.py:3385: UserWarning: Default grid_sample and affine_grid behavior has changed to align_corners=False since 1.3.0. Please specify align_corners=True if the old behavior is desired. See the documentation of grid_sample for details.\n",
      "  warnings.warn(\"Default grid_sample and affine_grid behavior has changed \"\n"
     ]
    },
    {
     "name": "stdout",
     "output_type": "stream",
     "text": [
      "Train Epoch: 3 [0/60000 (0%)]\tLoss: 0.261938\n",
      "Train Epoch: 3 [32000/60000 (53%)]\tLoss: 0.243450\n"
     ]
    },
    {
     "name": "stderr",
     "output_type": "stream",
     "text": [
      "/Users/siddhantbhambri/anaconda3/envs/env5/lib/python3.7/site-packages/torch/nn/_reduction.py:44: UserWarning: size_average and reduce args will be deprecated, please use reduction='sum' instead.\n",
      "  warnings.warn(warning.format(ret))\n"
     ]
    },
    {
     "name": "stdout",
     "output_type": "stream",
     "text": [
      "\n",
      "Test set: Average loss: 0.0948, Accuracy: 9705/10000 (97%)\n",
      "\n",
      "\\Other evaluation metrics on test set: Precision: 0.9701606404788207, Recall: 0.9703075691283711, F1_Score: 0.9702026811526097\n"
     ]
    },
    {
     "name": "stderr",
     "output_type": "stream",
     "text": [
      "/Users/siddhantbhambri/anaconda3/envs/env5/lib/python3.7/site-packages/torch/nn/functional.py:3448: UserWarning: Default grid_sample and affine_grid behavior has changed to align_corners=False since 1.3.0. Please specify align_corners=True if the old behavior is desired. See the documentation of grid_sample for details.\n",
      "  warnings.warn(\"Default grid_sample and affine_grid behavior has changed \"\n",
      "/Users/siddhantbhambri/anaconda3/envs/env5/lib/python3.7/site-packages/torch/nn/functional.py:3385: UserWarning: Default grid_sample and affine_grid behavior has changed to align_corners=False since 1.3.0. Please specify align_corners=True if the old behavior is desired. See the documentation of grid_sample for details.\n",
      "  warnings.warn(\"Default grid_sample and affine_grid behavior has changed \"\n"
     ]
    },
    {
     "name": "stdout",
     "output_type": "stream",
     "text": [
      "Train Epoch: 4 [0/60000 (0%)]\tLoss: 0.401818\n",
      "Train Epoch: 4 [32000/60000 (53%)]\tLoss: 0.062561\n"
     ]
    },
    {
     "name": "stderr",
     "output_type": "stream",
     "text": [
      "/Users/siddhantbhambri/anaconda3/envs/env5/lib/python3.7/site-packages/torch/nn/_reduction.py:44: UserWarning: size_average and reduce args will be deprecated, please use reduction='sum' instead.\n",
      "  warnings.warn(warning.format(ret))\n"
     ]
    },
    {
     "name": "stdout",
     "output_type": "stream",
     "text": [
      "\n",
      "Test set: Average loss: 0.0903, Accuracy: 9702/10000 (97%)\n",
      "\n",
      "\\Other evaluation metrics on test set: Precision: 0.9704059816408062, Recall: 0.9698424767254284, F1_Score: 0.970057779059947\n"
     ]
    },
    {
     "name": "stderr",
     "output_type": "stream",
     "text": [
      "/Users/siddhantbhambri/anaconda3/envs/env5/lib/python3.7/site-packages/torch/nn/functional.py:3448: UserWarning: Default grid_sample and affine_grid behavior has changed to align_corners=False since 1.3.0. Please specify align_corners=True if the old behavior is desired. See the documentation of grid_sample for details.\n",
      "  warnings.warn(\"Default grid_sample and affine_grid behavior has changed \"\n",
      "/Users/siddhantbhambri/anaconda3/envs/env5/lib/python3.7/site-packages/torch/nn/functional.py:3385: UserWarning: Default grid_sample and affine_grid behavior has changed to align_corners=False since 1.3.0. Please specify align_corners=True if the old behavior is desired. See the documentation of grid_sample for details.\n",
      "  warnings.warn(\"Default grid_sample and affine_grid behavior has changed \"\n"
     ]
    },
    {
     "name": "stdout",
     "output_type": "stream",
     "text": [
      "Train Epoch: 5 [0/60000 (0%)]\tLoss: 0.210971\n",
      "Train Epoch: 5 [32000/60000 (53%)]\tLoss: 0.239524\n"
     ]
    },
    {
     "name": "stderr",
     "output_type": "stream",
     "text": [
      "/Users/siddhantbhambri/anaconda3/envs/env5/lib/python3.7/site-packages/torch/nn/_reduction.py:44: UserWarning: size_average and reduce args will be deprecated, please use reduction='sum' instead.\n",
      "  warnings.warn(warning.format(ret))\n"
     ]
    },
    {
     "name": "stdout",
     "output_type": "stream",
     "text": [
      "\n",
      "Test set: Average loss: 0.1036, Accuracy: 9655/10000 (97%)\n",
      "\n",
      "\\Other evaluation metrics on test set: Precision: 0.9659227740913574, Recall: 0.9653100932043082, F1_Score: 0.9653904187431633\n"
     ]
    },
    {
     "name": "stderr",
     "output_type": "stream",
     "text": [
      "/Users/siddhantbhambri/anaconda3/envs/env5/lib/python3.7/site-packages/torch/nn/functional.py:3448: UserWarning: Default grid_sample and affine_grid behavior has changed to align_corners=False since 1.3.0. Please specify align_corners=True if the old behavior is desired. See the documentation of grid_sample for details.\n",
      "  warnings.warn(\"Default grid_sample and affine_grid behavior has changed \"\n",
      "/Users/siddhantbhambri/anaconda3/envs/env5/lib/python3.7/site-packages/torch/nn/functional.py:3385: UserWarning: Default grid_sample and affine_grid behavior has changed to align_corners=False since 1.3.0. Please specify align_corners=True if the old behavior is desired. See the documentation of grid_sample for details.\n",
      "  warnings.warn(\"Default grid_sample and affine_grid behavior has changed \"\n"
     ]
    },
    {
     "name": "stdout",
     "output_type": "stream",
     "text": [
      "Train Epoch: 6 [0/60000 (0%)]\tLoss: 0.437226\n",
      "Train Epoch: 6 [32000/60000 (53%)]\tLoss: 0.194570\n"
     ]
    },
    {
     "name": "stderr",
     "output_type": "stream",
     "text": [
      "/Users/siddhantbhambri/anaconda3/envs/env5/lib/python3.7/site-packages/torch/nn/_reduction.py:44: UserWarning: size_average and reduce args will be deprecated, please use reduction='sum' instead.\n",
      "  warnings.warn(warning.format(ret))\n"
     ]
    },
    {
     "name": "stdout",
     "output_type": "stream",
     "text": [
      "\n",
      "Test set: Average loss: 0.0648, Accuracy: 9799/10000 (98%)\n",
      "\n",
      "\\Other evaluation metrics on test set: Precision: 0.9799891964498011, Recall: 0.979815648406051, F1_Score: 0.979870433521986\n"
     ]
    },
    {
     "name": "stderr",
     "output_type": "stream",
     "text": [
      "/Users/siddhantbhambri/anaconda3/envs/env5/lib/python3.7/site-packages/torch/nn/functional.py:3448: UserWarning: Default grid_sample and affine_grid behavior has changed to align_corners=False since 1.3.0. Please specify align_corners=True if the old behavior is desired. See the documentation of grid_sample for details.\n",
      "  warnings.warn(\"Default grid_sample and affine_grid behavior has changed \"\n",
      "/Users/siddhantbhambri/anaconda3/envs/env5/lib/python3.7/site-packages/torch/nn/functional.py:3385: UserWarning: Default grid_sample and affine_grid behavior has changed to align_corners=False since 1.3.0. Please specify align_corners=True if the old behavior is desired. See the documentation of grid_sample for details.\n",
      "  warnings.warn(\"Default grid_sample and affine_grid behavior has changed \"\n"
     ]
    },
    {
     "name": "stdout",
     "output_type": "stream",
     "text": [
      "Train Epoch: 7 [0/60000 (0%)]\tLoss: 0.128018\n",
      "Train Epoch: 7 [32000/60000 (53%)]\tLoss: 0.120947\n"
     ]
    },
    {
     "name": "stderr",
     "output_type": "stream",
     "text": [
      "/Users/siddhantbhambri/anaconda3/envs/env5/lib/python3.7/site-packages/torch/nn/_reduction.py:44: UserWarning: size_average and reduce args will be deprecated, please use reduction='sum' instead.\n",
      "  warnings.warn(warning.format(ret))\n"
     ]
    },
    {
     "name": "stdout",
     "output_type": "stream",
     "text": [
      "\n",
      "Test set: Average loss: 0.1128, Accuracy: 9674/10000 (97%)\n",
      "\n",
      "\\Other evaluation metrics on test set: Precision: 0.9677644679301046, Recall: 0.9673058638085117, F1_Score: 0.9673152706134595\n"
     ]
    },
    {
     "name": "stderr",
     "output_type": "stream",
     "text": [
      "/Users/siddhantbhambri/anaconda3/envs/env5/lib/python3.7/site-packages/torch/nn/functional.py:3448: UserWarning: Default grid_sample and affine_grid behavior has changed to align_corners=False since 1.3.0. Please specify align_corners=True if the old behavior is desired. See the documentation of grid_sample for details.\n",
      "  warnings.warn(\"Default grid_sample and affine_grid behavior has changed \"\n",
      "/Users/siddhantbhambri/anaconda3/envs/env5/lib/python3.7/site-packages/torch/nn/functional.py:3385: UserWarning: Default grid_sample and affine_grid behavior has changed to align_corners=False since 1.3.0. Please specify align_corners=True if the old behavior is desired. See the documentation of grid_sample for details.\n",
      "  warnings.warn(\"Default grid_sample and affine_grid behavior has changed \"\n"
     ]
    },
    {
     "name": "stdout",
     "output_type": "stream",
     "text": [
      "Train Epoch: 8 [0/60000 (0%)]\tLoss: 0.157521\n",
      "Train Epoch: 8 [32000/60000 (53%)]\tLoss: 0.158863\n"
     ]
    },
    {
     "name": "stderr",
     "output_type": "stream",
     "text": [
      "/Users/siddhantbhambri/anaconda3/envs/env5/lib/python3.7/site-packages/torch/nn/_reduction.py:44: UserWarning: size_average and reduce args will be deprecated, please use reduction='sum' instead.\n",
      "  warnings.warn(warning.format(ret))\n"
     ]
    },
    {
     "name": "stdout",
     "output_type": "stream",
     "text": [
      "\n",
      "Test set: Average loss: 0.0548, Accuracy: 9835/10000 (98%)\n",
      "\n",
      "\\Other evaluation metrics on test set: Precision: 0.983439182304059, Recall: 0.9834032725917805, F1_Score: 0.9834078621160925\n"
     ]
    },
    {
     "name": "stderr",
     "output_type": "stream",
     "text": [
      "/Users/siddhantbhambri/anaconda3/envs/env5/lib/python3.7/site-packages/torch/nn/functional.py:3448: UserWarning: Default grid_sample and affine_grid behavior has changed to align_corners=False since 1.3.0. Please specify align_corners=True if the old behavior is desired. See the documentation of grid_sample for details.\n",
      "  warnings.warn(\"Default grid_sample and affine_grid behavior has changed \"\n",
      "/Users/siddhantbhambri/anaconda3/envs/env5/lib/python3.7/site-packages/torch/nn/functional.py:3385: UserWarning: Default grid_sample and affine_grid behavior has changed to align_corners=False since 1.3.0. Please specify align_corners=True if the old behavior is desired. See the documentation of grid_sample for details.\n",
      "  warnings.warn(\"Default grid_sample and affine_grid behavior has changed \"\n"
     ]
    },
    {
     "name": "stdout",
     "output_type": "stream",
     "text": [
      "Train Epoch: 9 [0/60000 (0%)]\tLoss: 0.120987\n",
      "Train Epoch: 9 [32000/60000 (53%)]\tLoss: 0.576948\n"
     ]
    },
    {
     "name": "stderr",
     "output_type": "stream",
     "text": [
      "/Users/siddhantbhambri/anaconda3/envs/env5/lib/python3.7/site-packages/torch/nn/_reduction.py:44: UserWarning: size_average and reduce args will be deprecated, please use reduction='sum' instead.\n",
      "  warnings.warn(warning.format(ret))\n"
     ]
    },
    {
     "name": "stdout",
     "output_type": "stream",
     "text": [
      "\n",
      "Test set: Average loss: 0.0719, Accuracy: 9780/10000 (98%)\n",
      "\n",
      "\\Other evaluation metrics on test set: Precision: 0.9779781352097162, Recall: 0.9778961110831939, F1_Score: 0.9778852563856232\n"
     ]
    },
    {
     "name": "stderr",
     "output_type": "stream",
     "text": [
      "/Users/siddhantbhambri/anaconda3/envs/env5/lib/python3.7/site-packages/torch/nn/functional.py:3448: UserWarning: Default grid_sample and affine_grid behavior has changed to align_corners=False since 1.3.0. Please specify align_corners=True if the old behavior is desired. See the documentation of grid_sample for details.\n",
      "  warnings.warn(\"Default grid_sample and affine_grid behavior has changed \"\n",
      "/Users/siddhantbhambri/anaconda3/envs/env5/lib/python3.7/site-packages/torch/nn/functional.py:3385: UserWarning: Default grid_sample and affine_grid behavior has changed to align_corners=False since 1.3.0. Please specify align_corners=True if the old behavior is desired. See the documentation of grid_sample for details.\n",
      "  warnings.warn(\"Default grid_sample and affine_grid behavior has changed \"\n"
     ]
    },
    {
     "name": "stdout",
     "output_type": "stream",
     "text": [
      "Train Epoch: 10 [0/60000 (0%)]\tLoss: 0.036444\n",
      "Train Epoch: 10 [32000/60000 (53%)]\tLoss: 0.132190\n"
     ]
    },
    {
     "name": "stderr",
     "output_type": "stream",
     "text": [
      "/Users/siddhantbhambri/anaconda3/envs/env5/lib/python3.7/site-packages/torch/nn/_reduction.py:44: UserWarning: size_average and reduce args will be deprecated, please use reduction='sum' instead.\n",
      "  warnings.warn(warning.format(ret))\n"
     ]
    },
    {
     "name": "stdout",
     "output_type": "stream",
     "text": [
      "\n",
      "Test set: Average loss: 0.0538, Accuracy: 9831/10000 (98%)\n",
      "\n",
      "\\Other evaluation metrics on test set: Precision: 0.9831928667930573, Recall: 0.9828701513933614, F1_Score: 0.98300295386285\n"
     ]
    },
    {
     "name": "stderr",
     "output_type": "stream",
     "text": [
      "/Users/siddhantbhambri/anaconda3/envs/env5/lib/python3.7/site-packages/torch/nn/functional.py:3448: UserWarning: Default grid_sample and affine_grid behavior has changed to align_corners=False since 1.3.0. Please specify align_corners=True if the old behavior is desired. See the documentation of grid_sample for details.\n",
      "  warnings.warn(\"Default grid_sample and affine_grid behavior has changed \"\n",
      "/Users/siddhantbhambri/anaconda3/envs/env5/lib/python3.7/site-packages/torch/nn/functional.py:3385: UserWarning: Default grid_sample and affine_grid behavior has changed to align_corners=False since 1.3.0. Please specify align_corners=True if the old behavior is desired. See the documentation of grid_sample for details.\n",
      "  warnings.warn(\"Default grid_sample and affine_grid behavior has changed \"\n"
     ]
    },
    {
     "name": "stdout",
     "output_type": "stream",
     "text": [
      "Train Epoch: 11 [0/60000 (0%)]\tLoss: 0.065924\n",
      "Train Epoch: 11 [32000/60000 (53%)]\tLoss: 0.088788\n"
     ]
    },
    {
     "name": "stderr",
     "output_type": "stream",
     "text": [
      "/Users/siddhantbhambri/anaconda3/envs/env5/lib/python3.7/site-packages/torch/nn/_reduction.py:44: UserWarning: size_average and reduce args will be deprecated, please use reduction='sum' instead.\n",
      "  warnings.warn(warning.format(ret))\n"
     ]
    },
    {
     "name": "stdout",
     "output_type": "stream",
     "text": [
      "\n",
      "Test set: Average loss: 0.0469, Accuracy: 9863/10000 (99%)\n",
      "\n",
      "\\Other evaluation metrics on test set: Precision: 0.9862532378029234, Recall: 0.9862284535979136, F1_Score: 0.9862347974136718\n",
      "Train Epoch: 12 [0/60000 (0%)]\tLoss: 0.088910\n"
     ]
    },
    {
     "name": "stderr",
     "output_type": "stream",
     "text": [
      "/Users/siddhantbhambri/anaconda3/envs/env5/lib/python3.7/site-packages/torch/nn/functional.py:3448: UserWarning: Default grid_sample and affine_grid behavior has changed to align_corners=False since 1.3.0. Please specify align_corners=True if the old behavior is desired. See the documentation of grid_sample for details.\n",
      "  warnings.warn(\"Default grid_sample and affine_grid behavior has changed \"\n",
      "/Users/siddhantbhambri/anaconda3/envs/env5/lib/python3.7/site-packages/torch/nn/functional.py:3385: UserWarning: Default grid_sample and affine_grid behavior has changed to align_corners=False since 1.3.0. Please specify align_corners=True if the old behavior is desired. See the documentation of grid_sample for details.\n",
      "  warnings.warn(\"Default grid_sample and affine_grid behavior has changed \"\n"
     ]
    },
    {
     "name": "stdout",
     "output_type": "stream",
     "text": [
      "Train Epoch: 12 [32000/60000 (53%)]\tLoss: 0.109385\n"
     ]
    },
    {
     "name": "stderr",
     "output_type": "stream",
     "text": [
      "/Users/siddhantbhambri/anaconda3/envs/env5/lib/python3.7/site-packages/torch/nn/_reduction.py:44: UserWarning: size_average and reduce args will be deprecated, please use reduction='sum' instead.\n",
      "  warnings.warn(warning.format(ret))\n"
     ]
    },
    {
     "name": "stdout",
     "output_type": "stream",
     "text": [
      "\n",
      "Test set: Average loss: 0.0540, Accuracy: 9837/10000 (98%)\n",
      "\n",
      "\\Other evaluation metrics on test set: Precision: 0.9837676390194783, Recall: 0.9836192009495986, F1_Score: 0.9836616037390093\n"
     ]
    },
    {
     "name": "stderr",
     "output_type": "stream",
     "text": [
      "/Users/siddhantbhambri/anaconda3/envs/env5/lib/python3.7/site-packages/torch/nn/functional.py:3448: UserWarning: Default grid_sample and affine_grid behavior has changed to align_corners=False since 1.3.0. Please specify align_corners=True if the old behavior is desired. See the documentation of grid_sample for details.\n",
      "  warnings.warn(\"Default grid_sample and affine_grid behavior has changed \"\n",
      "/Users/siddhantbhambri/anaconda3/envs/env5/lib/python3.7/site-packages/torch/nn/functional.py:3385: UserWarning: Default grid_sample and affine_grid behavior has changed to align_corners=False since 1.3.0. Please specify align_corners=True if the old behavior is desired. See the documentation of grid_sample for details.\n",
      "  warnings.warn(\"Default grid_sample and affine_grid behavior has changed \"\n"
     ]
    },
    {
     "name": "stdout",
     "output_type": "stream",
     "text": [
      "Train Epoch: 13 [0/60000 (0%)]\tLoss: 0.106922\n",
      "Train Epoch: 13 [32000/60000 (53%)]\tLoss: 0.033514\n"
     ]
    },
    {
     "name": "stderr",
     "output_type": "stream",
     "text": [
      "/Users/siddhantbhambri/anaconda3/envs/env5/lib/python3.7/site-packages/torch/nn/_reduction.py:44: UserWarning: size_average and reduce args will be deprecated, please use reduction='sum' instead.\n",
      "  warnings.warn(warning.format(ret))\n"
     ]
    },
    {
     "name": "stdout",
     "output_type": "stream",
     "text": [
      "\n",
      "Test set: Average loss: 0.0451, Accuracy: 9861/10000 (99%)\n",
      "\n",
      "\\Other evaluation metrics on test set: Precision: 0.9860629344649278, Recall: 0.9860623981927426, F1_Score: 0.9860610840164732\n"
     ]
    },
    {
     "name": "stderr",
     "output_type": "stream",
     "text": [
      "/Users/siddhantbhambri/anaconda3/envs/env5/lib/python3.7/site-packages/torch/nn/functional.py:3448: UserWarning: Default grid_sample and affine_grid behavior has changed to align_corners=False since 1.3.0. Please specify align_corners=True if the old behavior is desired. See the documentation of grid_sample for details.\n",
      "  warnings.warn(\"Default grid_sample and affine_grid behavior has changed \"\n",
      "/Users/siddhantbhambri/anaconda3/envs/env5/lib/python3.7/site-packages/torch/nn/functional.py:3385: UserWarning: Default grid_sample and affine_grid behavior has changed to align_corners=False since 1.3.0. Please specify align_corners=True if the old behavior is desired. See the documentation of grid_sample for details.\n",
      "  warnings.warn(\"Default grid_sample and affine_grid behavior has changed \"\n"
     ]
    },
    {
     "name": "stdout",
     "output_type": "stream",
     "text": [
      "Train Epoch: 14 [0/60000 (0%)]\tLoss: 0.033699\n",
      "Train Epoch: 14 [32000/60000 (53%)]\tLoss: 0.148232\n"
     ]
    },
    {
     "name": "stderr",
     "output_type": "stream",
     "text": [
      "/Users/siddhantbhambri/anaconda3/envs/env5/lib/python3.7/site-packages/torch/nn/_reduction.py:44: UserWarning: size_average and reduce args will be deprecated, please use reduction='sum' instead.\n",
      "  warnings.warn(warning.format(ret))\n"
     ]
    },
    {
     "name": "stdout",
     "output_type": "stream",
     "text": [
      "\n",
      "Test set: Average loss: 0.0451, Accuracy: 9861/10000 (99%)\n",
      "\n",
      "\\Other evaluation metrics on test set: Precision: 0.9861650951904568, Recall: 0.9860038276464363, F1_Score: 0.9860738007122212\n"
     ]
    },
    {
     "name": "stderr",
     "output_type": "stream",
     "text": [
      "/Users/siddhantbhambri/anaconda3/envs/env5/lib/python3.7/site-packages/torch/nn/functional.py:3448: UserWarning: Default grid_sample and affine_grid behavior has changed to align_corners=False since 1.3.0. Please specify align_corners=True if the old behavior is desired. See the documentation of grid_sample for details.\n",
      "  warnings.warn(\"Default grid_sample and affine_grid behavior has changed \"\n",
      "/Users/siddhantbhambri/anaconda3/envs/env5/lib/python3.7/site-packages/torch/nn/functional.py:3385: UserWarning: Default grid_sample and affine_grid behavior has changed to align_corners=False since 1.3.0. Please specify align_corners=True if the old behavior is desired. See the documentation of grid_sample for details.\n",
      "  warnings.warn(\"Default grid_sample and affine_grid behavior has changed \"\n"
     ]
    },
    {
     "name": "stdout",
     "output_type": "stream",
     "text": [
      "Train Epoch: 15 [0/60000 (0%)]\tLoss: 0.049242\n",
      "Train Epoch: 15 [32000/60000 (53%)]\tLoss: 0.112875\n"
     ]
    },
    {
     "name": "stderr",
     "output_type": "stream",
     "text": [
      "/Users/siddhantbhambri/anaconda3/envs/env5/lib/python3.7/site-packages/torch/nn/_reduction.py:44: UserWarning: size_average and reduce args will be deprecated, please use reduction='sum' instead.\n",
      "  warnings.warn(warning.format(ret))\n"
     ]
    },
    {
     "name": "stdout",
     "output_type": "stream",
     "text": [
      "\n",
      "Test set: Average loss: 0.0549, Accuracy: 9833/10000 (98%)\n",
      "\n",
      "\\Other evaluation metrics on test set: Precision: 0.9833105221755213, Recall: 0.9832957164215566, F1_Score: 0.9832845697442856\n"
     ]
    },
    {
     "name": "stderr",
     "output_type": "stream",
     "text": [
      "/Users/siddhantbhambri/anaconda3/envs/env5/lib/python3.7/site-packages/torch/nn/functional.py:3448: UserWarning: Default grid_sample and affine_grid behavior has changed to align_corners=False since 1.3.0. Please specify align_corners=True if the old behavior is desired. See the documentation of grid_sample for details.\n",
      "  warnings.warn(\"Default grid_sample and affine_grid behavior has changed \"\n",
      "/Users/siddhantbhambri/anaconda3/envs/env5/lib/python3.7/site-packages/torch/nn/functional.py:3385: UserWarning: Default grid_sample and affine_grid behavior has changed to align_corners=False since 1.3.0. Please specify align_corners=True if the old behavior is desired. See the documentation of grid_sample for details.\n",
      "  warnings.warn(\"Default grid_sample and affine_grid behavior has changed \"\n"
     ]
    },
    {
     "name": "stdout",
     "output_type": "stream",
     "text": [
      "Train Epoch: 16 [0/60000 (0%)]\tLoss: 0.083733\n",
      "Train Epoch: 16 [32000/60000 (53%)]\tLoss: 0.026786\n"
     ]
    },
    {
     "name": "stderr",
     "output_type": "stream",
     "text": [
      "/Users/siddhantbhambri/anaconda3/envs/env5/lib/python3.7/site-packages/torch/nn/_reduction.py:44: UserWarning: size_average and reduce args will be deprecated, please use reduction='sum' instead.\n",
      "  warnings.warn(warning.format(ret))\n"
     ]
    },
    {
     "name": "stdout",
     "output_type": "stream",
     "text": [
      "\n",
      "Test set: Average loss: 0.0457, Accuracy: 9847/10000 (98%)\n",
      "\n",
      "\\Other evaluation metrics on test set: Precision: 0.984598797114556, Recall: 0.9846736505820012, F1_Score: 0.9846226581682233\n"
     ]
    },
    {
     "name": "stderr",
     "output_type": "stream",
     "text": [
      "/Users/siddhantbhambri/anaconda3/envs/env5/lib/python3.7/site-packages/torch/nn/functional.py:3448: UserWarning: Default grid_sample and affine_grid behavior has changed to align_corners=False since 1.3.0. Please specify align_corners=True if the old behavior is desired. See the documentation of grid_sample for details.\n",
      "  warnings.warn(\"Default grid_sample and affine_grid behavior has changed \"\n",
      "/Users/siddhantbhambri/anaconda3/envs/env5/lib/python3.7/site-packages/torch/nn/functional.py:3385: UserWarning: Default grid_sample and affine_grid behavior has changed to align_corners=False since 1.3.0. Please specify align_corners=True if the old behavior is desired. See the documentation of grid_sample for details.\n",
      "  warnings.warn(\"Default grid_sample and affine_grid behavior has changed \"\n"
     ]
    },
    {
     "name": "stdout",
     "output_type": "stream",
     "text": [
      "Train Epoch: 17 [0/60000 (0%)]\tLoss: 0.037359\n",
      "Train Epoch: 17 [32000/60000 (53%)]\tLoss: 0.201926\n"
     ]
    },
    {
     "name": "stderr",
     "output_type": "stream",
     "text": [
      "/Users/siddhantbhambri/anaconda3/envs/env5/lib/python3.7/site-packages/torch/nn/_reduction.py:44: UserWarning: size_average and reduce args will be deprecated, please use reduction='sum' instead.\n",
      "  warnings.warn(warning.format(ret))\n"
     ]
    },
    {
     "name": "stdout",
     "output_type": "stream",
     "text": [
      "\n",
      "Test set: Average loss: 0.0432, Accuracy: 9874/10000 (99%)\n",
      "\n",
      "\\Other evaluation metrics on test set: Precision: 0.9874817367934853, Recall: 0.9872745102043694, F1_Score: 0.9873704595183135\n"
     ]
    },
    {
     "name": "stderr",
     "output_type": "stream",
     "text": [
      "/Users/siddhantbhambri/anaconda3/envs/env5/lib/python3.7/site-packages/torch/nn/functional.py:3448: UserWarning: Default grid_sample and affine_grid behavior has changed to align_corners=False since 1.3.0. Please specify align_corners=True if the old behavior is desired. See the documentation of grid_sample for details.\n",
      "  warnings.warn(\"Default grid_sample and affine_grid behavior has changed \"\n",
      "/Users/siddhantbhambri/anaconda3/envs/env5/lib/python3.7/site-packages/torch/nn/functional.py:3385: UserWarning: Default grid_sample and affine_grid behavior has changed to align_corners=False since 1.3.0. Please specify align_corners=True if the old behavior is desired. See the documentation of grid_sample for details.\n",
      "  warnings.warn(\"Default grid_sample and affine_grid behavior has changed \"\n"
     ]
    },
    {
     "name": "stdout",
     "output_type": "stream",
     "text": [
      "Train Epoch: 18 [0/60000 (0%)]\tLoss: 0.163957\n",
      "Train Epoch: 18 [32000/60000 (53%)]\tLoss: 0.043772\n"
     ]
    },
    {
     "name": "stderr",
     "output_type": "stream",
     "text": [
      "/Users/siddhantbhambri/anaconda3/envs/env5/lib/python3.7/site-packages/torch/nn/_reduction.py:44: UserWarning: size_average and reduce args will be deprecated, please use reduction='sum' instead.\n",
      "  warnings.warn(warning.format(ret))\n"
     ]
    },
    {
     "name": "stdout",
     "output_type": "stream",
     "text": [
      "\n",
      "Test set: Average loss: 0.0492, Accuracy: 9847/10000 (98%)\n",
      "\n",
      "\\Other evaluation metrics on test set: Precision: 0.9848060305626267, Recall: 0.9846456543116343, F1_Score: 0.9847012425390913\n"
     ]
    },
    {
     "name": "stderr",
     "output_type": "stream",
     "text": [
      "/Users/siddhantbhambri/anaconda3/envs/env5/lib/python3.7/site-packages/torch/nn/functional.py:3448: UserWarning: Default grid_sample and affine_grid behavior has changed to align_corners=False since 1.3.0. Please specify align_corners=True if the old behavior is desired. See the documentation of grid_sample for details.\n",
      "  warnings.warn(\"Default grid_sample and affine_grid behavior has changed \"\n",
      "/Users/siddhantbhambri/anaconda3/envs/env5/lib/python3.7/site-packages/torch/nn/functional.py:3385: UserWarning: Default grid_sample and affine_grid behavior has changed to align_corners=False since 1.3.0. Please specify align_corners=True if the old behavior is desired. See the documentation of grid_sample for details.\n",
      "  warnings.warn(\"Default grid_sample and affine_grid behavior has changed \"\n"
     ]
    },
    {
     "name": "stdout",
     "output_type": "stream",
     "text": [
      "Train Epoch: 19 [0/60000 (0%)]\tLoss: 0.049057\n",
      "Train Epoch: 19 [32000/60000 (53%)]\tLoss: 0.105576\n"
     ]
    },
    {
     "name": "stderr",
     "output_type": "stream",
     "text": [
      "/Users/siddhantbhambri/anaconda3/envs/env5/lib/python3.7/site-packages/torch/nn/_reduction.py:44: UserWarning: size_average and reduce args will be deprecated, please use reduction='sum' instead.\n",
      "  warnings.warn(warning.format(ret))\n"
     ]
    },
    {
     "name": "stdout",
     "output_type": "stream",
     "text": [
      "\n",
      "Test set: Average loss: 0.0412, Accuracy: 9875/10000 (99%)\n",
      "\n",
      "\\Other evaluation metrics on test set: Precision: 0.9875492808943823, Recall: 0.9873593171213464, F1_Score: 0.9874476635393623\n"
     ]
    },
    {
     "name": "stderr",
     "output_type": "stream",
     "text": [
      "/Users/siddhantbhambri/anaconda3/envs/env5/lib/python3.7/site-packages/torch/nn/functional.py:3448: UserWarning: Default grid_sample and affine_grid behavior has changed to align_corners=False since 1.3.0. Please specify align_corners=True if the old behavior is desired. See the documentation of grid_sample for details.\n",
      "  warnings.warn(\"Default grid_sample and affine_grid behavior has changed \"\n",
      "/Users/siddhantbhambri/anaconda3/envs/env5/lib/python3.7/site-packages/torch/nn/functional.py:3385: UserWarning: Default grid_sample and affine_grid behavior has changed to align_corners=False since 1.3.0. Please specify align_corners=True if the old behavior is desired. See the documentation of grid_sample for details.\n",
      "  warnings.warn(\"Default grid_sample and affine_grid behavior has changed \"\n"
     ]
    },
    {
     "name": "stdout",
     "output_type": "stream",
     "text": [
      "Train Epoch: 20 [0/60000 (0%)]\tLoss: 0.048036\n",
      "Train Epoch: 20 [32000/60000 (53%)]\tLoss: 0.014979\n"
     ]
    },
    {
     "name": "stderr",
     "output_type": "stream",
     "text": [
      "/Users/siddhantbhambri/anaconda3/envs/env5/lib/python3.7/site-packages/torch/nn/_reduction.py:44: UserWarning: size_average and reduce args will be deprecated, please use reduction='sum' instead.\n",
      "  warnings.warn(warning.format(ret))\n"
     ]
    },
    {
     "name": "stdout",
     "output_type": "stream",
     "text": [
      "\n",
      "Test set: Average loss: 0.0431, Accuracy: 9874/10000 (99%)\n",
      "\n",
      "\\Other evaluation metrics on test set: Precision: 0.9874660514139746, Recall: 0.9873483543994912, F1_Score: 0.9873888550311781\n"
     ]
    },
    {
     "name": "stderr",
     "output_type": "stream",
     "text": [
      "/Users/siddhantbhambri/anaconda3/envs/env5/lib/python3.7/site-packages/torch/nn/functional.py:3448: UserWarning: Default grid_sample and affine_grid behavior has changed to align_corners=False since 1.3.0. Please specify align_corners=True if the old behavior is desired. See the documentation of grid_sample for details.\n",
      "  warnings.warn(\"Default grid_sample and affine_grid behavior has changed \"\n",
      "/Users/siddhantbhambri/anaconda3/envs/env5/lib/python3.7/site-packages/torch/nn/functional.py:3385: UserWarning: Default grid_sample and affine_grid behavior has changed to align_corners=False since 1.3.0. Please specify align_corners=True if the old behavior is desired. See the documentation of grid_sample for details.\n",
      "  warnings.warn(\"Default grid_sample and affine_grid behavior has changed \"\n"
     ]
    },
    {
     "data": {
      "image/png": "[encoded data removed]",
      "text/plain": [
       "<Figure size 432x288 with 2 Axes>"
      ]
     },
     "metadata": {
      "needs_background": "light"
     },
     "output_type": "display_data"
    }
   ],
   "source": [
    "def convert_image_np(inp):\n",
    "    \"\"\"Convert a Tensor to numpy image.\"\"\"\n",
    "    inp = inp.numpy().transpose((1, 2, 0))\n",
    "    mean = np.array([0.485, 0.456, 0.406])\n",
    "    std = np.array([0.229, 0.224, 0.225])\n",
    "    inp = std * inp + mean\n",
    "    inp = np.clip(inp, 0, 1)\n",
    "    return inp\n",
    "\n",
    "# We want to visualize the output of the spatial transformers layer\n",
    "# after the training, we visualize a batch of input images and\n",
    "# the corresponding transformed batch using STN.\n",
    "\n",
    "\n",
    "def visualize_stn():\n",
    "    with torch.no_grad():\n",
    "        # Get a batch of training data\n",
    "        data = next(iter(test_loader))[0].to(device)\n",
    "\n",
    "        input_tensor = data.cpu()\n",
    "        transformed_input_tensor = model.stn(data).cpu()\n",
    "\n",
    "        in_grid = convert_image_np(\n",
    "            torchvision.utils.make_grid(input_tensor))\n",
    "\n",
    "        out_grid = convert_image_np(\n",
    "            torchvision.utils.make_grid(transformed_input_tensor))\n",
    "\n",
    "        # Plot the results side-by-side\n",
    "        f, axarr = plt.subplots(1, 2)\n",
    "        axarr[0].imshow(in_grid)\n",
    "        axarr[0].set_title('Dataset Images')\n",
    "\n",
    "        axarr[1].imshow(out_grid)\n",
    "        axarr[1].set_title('Transformed Images')\n",
    "\n",
    "for epoch in range(1, 20+1):\n",
    "    train(epoch)\n",
    "    test()\n",
    "\n",
    "# Visualize the STN transformation on some input batch\n",
    "visualize_stn()\n",
    "\n",
    "plt.ioff()\n",
    "plt.show()"
   ]
  },
  {
   "cell_type": "markdown",
   "id": "45328bba",
   "metadata": {},
   "source": [
    "# CoordConv By UBER AI Labs"
   ]
  },
  {
   "cell_type": "markdown",
   "id": "b97c78bb",
   "metadata": {},
   "source": [
    "A CoordConv layer is a straightforward addition to a conventional convolutional layer. It has the same functional signature as a convolutional layer, but it maps the input representation by concatenating extra channels beforehand. These channels include hard-coded coordinates, with one channel for the i coordinate and another for the j coordinate in the most basic version.\n",
    "\n",
    "The CoordConv layer preserves the properties of few parameters and efficient convolutional processing, but it also allows the network to learn whether to keep or reject translation invariance depending on the task at hand. This is beneficial for problems involving coordinate transforms, when ordinary convolutions may fail.\n"
   ]
  },
  {
   "cell_type": "code",
   "execution_count": 27,
   "id": "2948e7b6",
   "metadata": {},
   "outputs": [
    {
     "data": {
      "text/html": [
       "<img src=\"coordconv_uber.png\"/>"
      ],
      "text/plain": [
       "<IPython.core.display.Image object>"
      ]
     },
     "execution_count": 27,
     "metadata": {},
     "output_type": "execute_result"
    }
   ],
   "source": [
    "Image(url= \"coordconv_uber.png\")"
   ]
  },
  {
   "cell_type": "markdown",
   "id": "8319148d",
   "metadata": {},
   "source": [
    "From creating self-driving vehicles to automating street sign identification to building maps and increasing the efficiency of spatial motions in the Uber Marketplace, Uber uses convolutional neural networks in a variety of domains that could potentially require coordinate transforms.\n",
    "\n",
    "In there work in \"An Intriguing Failing of Convolutional Neural Networks and the CoordConv Solution\" (https://arxiv.org/abs/1807.03247) they have proposed three discoveries which are as follows:\n",
    "\n",
    "First discovery: supervised rendering is hard for CNNs\n",
    "\n",
    "Second discovery: supervised coordinate classification is hard for CNNs\n",
    "\n",
    "Third discovery: supervised regression is also hard for CNNs\n",
    "\n",
    "And they proposed a solution to these three problems with CoordConv."
   ]
  },
  {
   "cell_type": "markdown",
   "id": "d6346fb3",
   "metadata": {},
   "source": [
    "# Importing The Architecture For Coordconv"
   ]
  },
  {
   "cell_type": "code",
   "execution_count": 3,
   "id": "70004ddf",
   "metadata": {},
   "outputs": [],
   "source": [
    "from coordconv import *\n",
    "\n",
    "# You can get this file from the PyTorch implementation of CoordConv by \n",
    "# LeVirve Salas, Valentin Peretroukhin and Christian Clauss (https://github.com/mkocabas/CoordConv-pytorch)."
   ]
  },
  {
   "cell_type": "markdown",
   "id": "96b0860b",
   "metadata": {},
   "source": [
    "# Spatial Transformer Networks With CoordConv"
   ]
  },
  {
   "cell_type": "markdown",
   "id": "0a629829",
   "metadata": {},
   "source": [
    "Here we are using the same special transformer network that we have used in our previous experiments but we also added a layer of coordconv in the network.\n",
    "\n",
    "Now the network have one coordconv layer followed by two 2D convolution layers followed by a dropout and linear units."
   ]
  },
  {
   "cell_type": "code",
   "execution_count": 4,
   "id": "ea3e21b3",
   "metadata": {},
   "outputs": [],
   "source": [
    "class Net(nn.Module):\n",
    "    def __init__(self):\n",
    "        super(Net, self).__init__()\n",
    "        self.coordconv = CoordConv2d(1, 10, 1, with_r=True, use_cuda=False)\n",
    "        self.conv1 = nn.Conv2d(10, 10, kernel_size=5)\n",
    "        self.conv2 = nn.Conv2d(10, 20, kernel_size=5)\n",
    "        self.conv2_drop = nn.Dropout2d()\n",
    "        self.fc1 = nn.Linear(320, 50)\n",
    "        self.fc2 = nn.Linear(50, 10)\n",
    "\n",
    "        # Spatial transformer localization-network\n",
    "        self.localization = nn.Sequential(\n",
    "            nn.Conv2d(1, 8, kernel_size=7),\n",
    "            nn.MaxPool2d(2, stride=2),\n",
    "            nn.ReLU(True),\n",
    "            nn.Conv2d(8, 10, kernel_size=5),\n",
    "            nn.MaxPool2d(2, stride=2),\n",
    "            nn.ReLU(True)\n",
    "        )\n",
    "\n",
    "        # Regressor for the 3 * 2 affine matrix\n",
    "        self.fc_loc = nn.Sequential(\n",
    "            nn.Linear(10 * 3 * 3, 32),\n",
    "            nn.ReLU(True),\n",
    "            nn.Linear(32, 3 * 2)\n",
    "        )\n",
    "\n",
    "        # Initialize the weights/bias with identity transformation\n",
    "        self.fc_loc[2].weight.data.zero_()\n",
    "        self.fc_loc[2].bias.data.copy_(torch.tensor([1, 0, 0, 0, 1, 0], dtype=torch.float))\n",
    "\n",
    "    # Spatial transformer network forward function\n",
    "    def stn(self, x):\n",
    "        xs = self.localization(x)\n",
    "        xs = xs.view(-1, 10 * 3 * 3)\n",
    "        theta = self.fc_loc(xs)\n",
    "        theta = theta.view(-1, 2, 3)\n",
    "\n",
    "        grid = F.affine_grid(theta, x.size())\n",
    "        x = F.grid_sample(x, grid)\n",
    "\n",
    "        return x\n",
    "\n",
    "    def forward(self, x):\n",
    "        # transform the input\n",
    "        x = self.stn(x)\n",
    "\n",
    "        # Perform the usual forward pass\n",
    "        x = self.coordconv(x)\n",
    "        x = F.relu(F.max_pool2d(self.conv1(x), 2))\n",
    "        x = F.relu(F.max_pool2d(self.conv2_drop(self.conv2(x)), 2))\n",
    "        x = x.view(-1, 320)\n",
    "        x = F.relu(self.fc1(x))\n",
    "        x = F.dropout(x, training=self.training)\n",
    "        x = self.fc2(x)\n",
    "\n",
    "        return F.log_softmax(x, dim=1)\n",
    "\n",
    "\n",
    "model = Net().to(device)"
   ]
  },
  {
   "cell_type": "markdown",
   "id": "adec74a8",
   "metadata": {},
   "source": [
    "# Training And Testing The Model"
   ]
  },
  {
   "cell_type": "markdown",
   "id": "e8cc094e",
   "metadata": {},
   "source": [
    "The training and testing of procedure is the same as pervious experiment."
   ]
  },
  {
   "cell_type": "code",
   "execution_count": 5,
   "id": "13373209",
   "metadata": {},
   "outputs": [],
   "source": [
    "optimizer = optim.SGD(model.parameters(), lr=0.01)\n",
    "\n",
    "\n",
    "def train(epoch):\n",
    "    model.train()\n",
    "    for batch_idx, (data, target) in enumerate(train_loader):\n",
    "        data, target = data.to(device), target.to(device)\n",
    "\n",
    "        optimizer.zero_grad()\n",
    "        output = model(data)\n",
    "        loss = F.nll_loss(output, target)\n",
    "        loss.backward()\n",
    "        optimizer.step()\n",
    "        if batch_idx % 500 == 0:\n",
    "            print('Train Epoch: {} [{}/{} ({:.0f}%)]\\tLoss: {:.6f}'.format(\n",
    "                epoch, batch_idx * len(data), len(train_loader.dataset),\n",
    "                100. * batch_idx / len(train_loader), loss.item()))\n",
    "#\n",
    "# A simple test procedure to measure the STN performances on MNIST.\n",
    "#\n",
    "\n",
    "def test():\n",
    "    with torch.no_grad():\n",
    "        model.eval()\n",
    "        test_loss = 0\n",
    "        correct = 0\n",
    "        y_pred = []\n",
    "        y_true = []\n",
    "        for data, target in test_loader:\n",
    "            data, target = data.to(device), target.to(device)\n",
    "            output = model(data)\n",
    "\n",
    "            # sum up batch loss\n",
    "            test_loss += F.nll_loss(output, target, size_average=False).item()\n",
    "            # get the index of the max log-probability\n",
    "            pred = output.max(1, keepdim=True)[1]\n",
    "            correct += pred.eq(target.view_as(pred)).sum().item()\n",
    "#             print(pred.shape)\n",
    "            y_pred.append(pred)\n",
    "            y_true.append(target.view_as(pred))\n",
    "        y_pred = np.squeeze(torch.cat(y_pred, dim=0).detach().cpu().numpy(), axis=1)\n",
    "        y_true = np.squeeze(torch.cat(y_true, dim=0).detach().cpu().numpy(), axis=1)\n",
    "    \n",
    "        test_loss /= len(test_loader.dataset)\n",
    "        print('\\nTest set: Average loss: {:.4f}, Accuracy: {}/{} ({:.0f}%)\\n'\n",
    "              .format(test_loss, correct, len(test_loader.dataset),\n",
    "                      100. * correct / len(test_loader.dataset)))\n",
    "        \n",
    "        # Evaluating precision, recall, f1_score and support.\n",
    "        p, r, f1, sp = precision_recall_fscore_support(y_true, y_pred)\n",
    "        precision = np.mean(p, axis=None, dtype=None) \n",
    "        recall = np.mean(r, axis=None, dtype=None)\n",
    "        f1_score = np.mean(f1, axis=None, dtype=None)\n",
    "        #support = np.mean(sp, axis=None, dtype=None)\n",
    "        \n",
    "        print('\\Other evaluation metrics on test set: Precision: {}, Recall: {}, F1_Score: {}'\n",
    "              .format(precision, recall, f1_score))"
   ]
  },
  {
   "cell_type": "markdown",
   "id": "4b7f4930",
   "metadata": {},
   "source": [
    "# Visualizing The STN Results"
   ]
  },
  {
   "cell_type": "markdown",
   "id": "7080e4db",
   "metadata": {},
   "source": [
    "Now we'll look at the outcomes of our newly acquired visual attention mechanism.\n",
    "\n",
    "To view the transformations while training, we construct a tiny helper function."
   ]
  },
  {
   "cell_type": "code",
   "execution_count": 6,
   "id": "99388e77",
   "metadata": {
    "scrolled": true
   },
   "outputs": [
    {
     "name": "stderr",
     "output_type": "stream",
     "text": [
      "/Users/siddhantbhambri/anaconda3/envs/env5/lib/python3.7/site-packages/torch/nn/functional.py:3448: UserWarning: Default grid_sample and affine_grid behavior has changed to align_corners=False since 1.3.0. Please specify align_corners=True if the old behavior is desired. See the documentation of grid_sample for details.\n",
      "  warnings.warn(\"Default grid_sample and affine_grid behavior has changed \"\n",
      "/Users/siddhantbhambri/anaconda3/envs/env5/lib/python3.7/site-packages/torch/nn/functional.py:3385: UserWarning: Default grid_sample and affine_grid behavior has changed to align_corners=False since 1.3.0. Please specify align_corners=True if the old behavior is desired. See the documentation of grid_sample for details.\n",
      "  warnings.warn(\"Default grid_sample and affine_grid behavior has changed \"\n"
     ]
    },
    {
     "name": "stdout",
     "output_type": "stream",
     "text": [
      "Train Epoch: 1 [0/60000 (0%)]\tLoss: 2.302411\n",
      "Train Epoch: 1 [32000/60000 (53%)]\tLoss: 1.169425\n"
     ]
    },
    {
     "name": "stderr",
     "output_type": "stream",
     "text": [
      "/Users/siddhantbhambri/anaconda3/envs/env5/lib/python3.7/site-packages/torch/nn/_reduction.py:44: UserWarning: size_average and reduce args will be deprecated, please use reduction='sum' instead.\n",
      "  warnings.warn(warning.format(ret))\n"
     ]
    },
    {
     "name": "stdout",
     "output_type": "stream",
     "text": [
      "\n",
      "Test set: Average loss: 0.2817, Accuracy: 9189/10000 (92%)\n",
      "\n",
      "\\Other evaluation metrics on test set: Precision: 0.918133172190194, Recall: 0.9185610056394967, F1_Score: 0.9176106999103529\n"
     ]
    },
    {
     "name": "stderr",
     "output_type": "stream",
     "text": [
      "/Users/siddhantbhambri/anaconda3/envs/env5/lib/python3.7/site-packages/torch/nn/functional.py:3448: UserWarning: Default grid_sample and affine_grid behavior has changed to align_corners=False since 1.3.0. Please specify align_corners=True if the old behavior is desired. See the documentation of grid_sample for details.\n",
      "  warnings.warn(\"Default grid_sample and affine_grid behavior has changed \"\n",
      "/Users/siddhantbhambri/anaconda3/envs/env5/lib/python3.7/site-packages/torch/nn/functional.py:3385: UserWarning: Default grid_sample and affine_grid behavior has changed to align_corners=False since 1.3.0. Please specify align_corners=True if the old behavior is desired. See the documentation of grid_sample for details.\n",
      "  warnings.warn(\"Default grid_sample and affine_grid behavior has changed \"\n"
     ]
    },
    {
     "name": "stdout",
     "output_type": "stream",
     "text": [
      "Train Epoch: 2 [0/60000 (0%)]\tLoss: 0.539881\n",
      "Train Epoch: 2 [32000/60000 (53%)]\tLoss: 0.587565\n"
     ]
    },
    {
     "name": "stderr",
     "output_type": "stream",
     "text": [
      "/Users/siddhantbhambri/anaconda3/envs/env5/lib/python3.7/site-packages/torch/nn/_reduction.py:44: UserWarning: size_average and reduce args will be deprecated, please use reduction='sum' instead.\n",
      "  warnings.warn(warning.format(ret))\n"
     ]
    },
    {
     "name": "stdout",
     "output_type": "stream",
     "text": [
      "\n",
      "Test set: Average loss: 0.1642, Accuracy: 9488/10000 (95%)\n",
      "\n",
      "\\Other evaluation metrics on test set: Precision: 0.9486413500044437, Recall: 0.9489897108778352, F1_Score: 0.9481614629257848\n"
     ]
    },
    {
     "name": "stderr",
     "output_type": "stream",
     "text": [
      "/Users/siddhantbhambri/anaconda3/envs/env5/lib/python3.7/site-packages/torch/nn/functional.py:3448: UserWarning: Default grid_sample and affine_grid behavior has changed to align_corners=False since 1.3.0. Please specify align_corners=True if the old behavior is desired. See the documentation of grid_sample for details.\n",
      "  warnings.warn(\"Default grid_sample and affine_grid behavior has changed \"\n",
      "/Users/siddhantbhambri/anaconda3/envs/env5/lib/python3.7/site-packages/torch/nn/functional.py:3385: UserWarning: Default grid_sample and affine_grid behavior has changed to align_corners=False since 1.3.0. Please specify align_corners=True if the old behavior is desired. See the documentation of grid_sample for details.\n",
      "  warnings.warn(\"Default grid_sample and affine_grid behavior has changed \"\n"
     ]
    },
    {
     "name": "stdout",
     "output_type": "stream",
     "text": [
      "Train Epoch: 3 [0/60000 (0%)]\tLoss: 0.557945\n",
      "Train Epoch: 3 [32000/60000 (53%)]\tLoss: 0.202659\n"
     ]
    },
    {
     "name": "stderr",
     "output_type": "stream",
     "text": [
      "/Users/siddhantbhambri/anaconda3/envs/env5/lib/python3.7/site-packages/torch/nn/_reduction.py:44: UserWarning: size_average and reduce args will be deprecated, please use reduction='sum' instead.\n",
      "  warnings.warn(warning.format(ret))\n"
     ]
    },
    {
     "name": "stdout",
     "output_type": "stream",
     "text": [
      "\n",
      "Test set: Average loss: 0.1046, Accuracy: 9658/10000 (97%)\n",
      "\n",
      "\\Other evaluation metrics on test set: Precision: 0.965564996855972, Recall: 0.9654092587329387, F1_Score: 0.9652152761254106\n"
     ]
    },
    {
     "name": "stderr",
     "output_type": "stream",
     "text": [
      "/Users/siddhantbhambri/anaconda3/envs/env5/lib/python3.7/site-packages/torch/nn/functional.py:3448: UserWarning: Default grid_sample and affine_grid behavior has changed to align_corners=False since 1.3.0. Please specify align_corners=True if the old behavior is desired. See the documentation of grid_sample for details.\n",
      "  warnings.warn(\"Default grid_sample and affine_grid behavior has changed \"\n",
      "/Users/siddhantbhambri/anaconda3/envs/env5/lib/python3.7/site-packages/torch/nn/functional.py:3385: UserWarning: Default grid_sample and affine_grid behavior has changed to align_corners=False since 1.3.0. Please specify align_corners=True if the old behavior is desired. See the documentation of grid_sample for details.\n",
      "  warnings.warn(\"Default grid_sample and affine_grid behavior has changed \"\n"
     ]
    },
    {
     "name": "stdout",
     "output_type": "stream",
     "text": [
      "Train Epoch: 4 [0/60000 (0%)]\tLoss: 0.304623\n",
      "Train Epoch: 4 [32000/60000 (53%)]\tLoss: 0.211075\n"
     ]
    },
    {
     "name": "stderr",
     "output_type": "stream",
     "text": [
      "/Users/siddhantbhambri/anaconda3/envs/env5/lib/python3.7/site-packages/torch/nn/_reduction.py:44: UserWarning: size_average and reduce args will be deprecated, please use reduction='sum' instead.\n",
      "  warnings.warn(warning.format(ret))\n"
     ]
    },
    {
     "name": "stdout",
     "output_type": "stream",
     "text": [
      "\n",
      "Test set: Average loss: 0.1752, Accuracy: 9474/10000 (95%)\n",
      "\n",
      "\\Other evaluation metrics on test set: Precision: 0.9494090058417408, Recall: 0.946892184267828, F1_Score: 0.9470737562677192\n"
     ]
    },
    {
     "name": "stderr",
     "output_type": "stream",
     "text": [
      "/Users/siddhantbhambri/anaconda3/envs/env5/lib/python3.7/site-packages/torch/nn/functional.py:3448: UserWarning: Default grid_sample and affine_grid behavior has changed to align_corners=False since 1.3.0. Please specify align_corners=True if the old behavior is desired. See the documentation of grid_sample for details.\n",
      "  warnings.warn(\"Default grid_sample and affine_grid behavior has changed \"\n",
      "/Users/siddhantbhambri/anaconda3/envs/env5/lib/python3.7/site-packages/torch/nn/functional.py:3385: UserWarning: Default grid_sample and affine_grid behavior has changed to align_corners=False since 1.3.0. Please specify align_corners=True if the old behavior is desired. See the documentation of grid_sample for details.\n",
      "  warnings.warn(\"Default grid_sample and affine_grid behavior has changed \"\n"
     ]
    },
    {
     "name": "stdout",
     "output_type": "stream",
     "text": [
      "Train Epoch: 5 [0/60000 (0%)]\tLoss: 0.344061\n",
      "Train Epoch: 5 [32000/60000 (53%)]\tLoss: 0.123622\n"
     ]
    },
    {
     "name": "stderr",
     "output_type": "stream",
     "text": [
      "/Users/siddhantbhambri/anaconda3/envs/env5/lib/python3.7/site-packages/torch/nn/_reduction.py:44: UserWarning: size_average and reduce args will be deprecated, please use reduction='sum' instead.\n",
      "  warnings.warn(warning.format(ret))\n"
     ]
    },
    {
     "name": "stdout",
     "output_type": "stream",
     "text": [
      "\n",
      "Test set: Average loss: 0.1118, Accuracy: 9671/10000 (97%)\n",
      "\n",
      "\\Other evaluation metrics on test set: Precision: 0.9671372216043407, Recall: 0.967254304780678, F1_Score: 0.9669546509517964\n"
     ]
    },
    {
     "name": "stderr",
     "output_type": "stream",
     "text": [
      "/Users/siddhantbhambri/anaconda3/envs/env5/lib/python3.7/site-packages/torch/nn/functional.py:3448: UserWarning: Default grid_sample and affine_grid behavior has changed to align_corners=False since 1.3.0. Please specify align_corners=True if the old behavior is desired. See the documentation of grid_sample for details.\n",
      "  warnings.warn(\"Default grid_sample and affine_grid behavior has changed \"\n",
      "/Users/siddhantbhambri/anaconda3/envs/env5/lib/python3.7/site-packages/torch/nn/functional.py:3385: UserWarning: Default grid_sample and affine_grid behavior has changed to align_corners=False since 1.3.0. Please specify align_corners=True if the old behavior is desired. See the documentation of grid_sample for details.\n",
      "  warnings.warn(\"Default grid_sample and affine_grid behavior has changed \"\n"
     ]
    },
    {
     "name": "stdout",
     "output_type": "stream",
     "text": [
      "Train Epoch: 6 [0/60000 (0%)]\tLoss: 0.229694\n",
      "Train Epoch: 6 [32000/60000 (53%)]\tLoss: 0.101168\n"
     ]
    },
    {
     "name": "stderr",
     "output_type": "stream",
     "text": [
      "/Users/siddhantbhambri/anaconda3/envs/env5/lib/python3.7/site-packages/torch/nn/_reduction.py:44: UserWarning: size_average and reduce args will be deprecated, please use reduction='sum' instead.\n",
      "  warnings.warn(warning.format(ret))\n"
     ]
    },
    {
     "name": "stdout",
     "output_type": "stream",
     "text": [
      "\n",
      "Test set: Average loss: 0.0586, Accuracy: 9826/10000 (98%)\n",
      "\n",
      "\\Other evaluation metrics on test set: Precision: 0.9824931150493186, Recall: 0.982728760109848, F1_Score: 0.9825947297121157\n"
     ]
    },
    {
     "name": "stderr",
     "output_type": "stream",
     "text": [
      "/Users/siddhantbhambri/anaconda3/envs/env5/lib/python3.7/site-packages/torch/nn/functional.py:3448: UserWarning: Default grid_sample and affine_grid behavior has changed to align_corners=False since 1.3.0. Please specify align_corners=True if the old behavior is desired. See the documentation of grid_sample for details.\n",
      "  warnings.warn(\"Default grid_sample and affine_grid behavior has changed \"\n",
      "/Users/siddhantbhambri/anaconda3/envs/env5/lib/python3.7/site-packages/torch/nn/functional.py:3385: UserWarning: Default grid_sample and affine_grid behavior has changed to align_corners=False since 1.3.0. Please specify align_corners=True if the old behavior is desired. See the documentation of grid_sample for details.\n",
      "  warnings.warn(\"Default grid_sample and affine_grid behavior has changed \"\n"
     ]
    },
    {
     "name": "stdout",
     "output_type": "stream",
     "text": [
      "Train Epoch: 7 [0/60000 (0%)]\tLoss: 0.350877\n",
      "Train Epoch: 7 [32000/60000 (53%)]\tLoss: 0.073199\n"
     ]
    },
    {
     "name": "stderr",
     "output_type": "stream",
     "text": [
      "/Users/siddhantbhambri/anaconda3/envs/env5/lib/python3.7/site-packages/torch/nn/_reduction.py:44: UserWarning: size_average and reduce args will be deprecated, please use reduction='sum' instead.\n",
      "  warnings.warn(warning.format(ret))\n"
     ]
    },
    {
     "name": "stdout",
     "output_type": "stream",
     "text": [
      "\n",
      "Test set: Average loss: 0.0567, Accuracy: 9834/10000 (98%)\n",
      "\n",
      "\\Other evaluation metrics on test set: Precision: 0.9833322582026327, Recall: 0.9833525711582347, F1_Score: 0.9833330715625982\n"
     ]
    },
    {
     "name": "stderr",
     "output_type": "stream",
     "text": [
      "/Users/siddhantbhambri/anaconda3/envs/env5/lib/python3.7/site-packages/torch/nn/functional.py:3448: UserWarning: Default grid_sample and affine_grid behavior has changed to align_corners=False since 1.3.0. Please specify align_corners=True if the old behavior is desired. See the documentation of grid_sample for details.\n",
      "  warnings.warn(\"Default grid_sample and affine_grid behavior has changed \"\n",
      "/Users/siddhantbhambri/anaconda3/envs/env5/lib/python3.7/site-packages/torch/nn/functional.py:3385: UserWarning: Default grid_sample and affine_grid behavior has changed to align_corners=False since 1.3.0. Please specify align_corners=True if the old behavior is desired. See the documentation of grid_sample for details.\n",
      "  warnings.warn(\"Default grid_sample and affine_grid behavior has changed \"\n"
     ]
    },
    {
     "name": "stdout",
     "output_type": "stream",
     "text": [
      "Train Epoch: 8 [0/60000 (0%)]\tLoss: 0.212894\n",
      "Train Epoch: 8 [32000/60000 (53%)]\tLoss: 0.156650\n"
     ]
    },
    {
     "name": "stderr",
     "output_type": "stream",
     "text": [
      "/Users/siddhantbhambri/anaconda3/envs/env5/lib/python3.7/site-packages/torch/nn/_reduction.py:44: UserWarning: size_average and reduce args will be deprecated, please use reduction='sum' instead.\n",
      "  warnings.warn(warning.format(ret))\n"
     ]
    },
    {
     "name": "stdout",
     "output_type": "stream",
     "text": [
      "\n",
      "Test set: Average loss: 0.0744, Accuracy: 9769/10000 (98%)\n",
      "\n",
      "\\Other evaluation metrics on test set: Precision: 0.9771203045943702, Recall: 0.9767696891468202, F1_Score: 0.9768564918669377\n"
     ]
    },
    {
     "name": "stderr",
     "output_type": "stream",
     "text": [
      "/Users/siddhantbhambri/anaconda3/envs/env5/lib/python3.7/site-packages/torch/nn/functional.py:3448: UserWarning: Default grid_sample and affine_grid behavior has changed to align_corners=False since 1.3.0. Please specify align_corners=True if the old behavior is desired. See the documentation of grid_sample for details.\n",
      "  warnings.warn(\"Default grid_sample and affine_grid behavior has changed \"\n",
      "/Users/siddhantbhambri/anaconda3/envs/env5/lib/python3.7/site-packages/torch/nn/functional.py:3385: UserWarning: Default grid_sample and affine_grid behavior has changed to align_corners=False since 1.3.0. Please specify align_corners=True if the old behavior is desired. See the documentation of grid_sample for details.\n",
      "  warnings.warn(\"Default grid_sample and affine_grid behavior has changed \"\n"
     ]
    },
    {
     "name": "stdout",
     "output_type": "stream",
     "text": [
      "Train Epoch: 9 [0/60000 (0%)]\tLoss: 0.066224\n",
      "Train Epoch: 9 [32000/60000 (53%)]\tLoss: 0.225468\n"
     ]
    },
    {
     "name": "stderr",
     "output_type": "stream",
     "text": [
      "/Users/siddhantbhambri/anaconda3/envs/env5/lib/python3.7/site-packages/torch/nn/_reduction.py:44: UserWarning: size_average and reduce args will be deprecated, please use reduction='sum' instead.\n",
      "  warnings.warn(warning.format(ret))\n"
     ]
    },
    {
     "name": "stdout",
     "output_type": "stream",
     "text": [
      "\n",
      "Test set: Average loss: 0.0555, Accuracy: 9840/10000 (98%)\n",
      "\n",
      "\\Other evaluation metrics on test set: Precision: 0.9840274176462233, Recall: 0.9839921251283436, F1_Score: 0.983981202600447\n"
     ]
    },
    {
     "name": "stderr",
     "output_type": "stream",
     "text": [
      "/Users/siddhantbhambri/anaconda3/envs/env5/lib/python3.7/site-packages/torch/nn/functional.py:3448: UserWarning: Default grid_sample and affine_grid behavior has changed to align_corners=False since 1.3.0. Please specify align_corners=True if the old behavior is desired. See the documentation of grid_sample for details.\n",
      "  warnings.warn(\"Default grid_sample and affine_grid behavior has changed \"\n",
      "/Users/siddhantbhambri/anaconda3/envs/env5/lib/python3.7/site-packages/torch/nn/functional.py:3385: UserWarning: Default grid_sample and affine_grid behavior has changed to align_corners=False since 1.3.0. Please specify align_corners=True if the old behavior is desired. See the documentation of grid_sample for details.\n",
      "  warnings.warn(\"Default grid_sample and affine_grid behavior has changed \"\n"
     ]
    },
    {
     "name": "stdout",
     "output_type": "stream",
     "text": [
      "Train Epoch: 10 [0/60000 (0%)]\tLoss: 0.246771\n",
      "Train Epoch: 10 [32000/60000 (53%)]\tLoss: 0.175425\n"
     ]
    },
    {
     "name": "stderr",
     "output_type": "stream",
     "text": [
      "/Users/siddhantbhambri/anaconda3/envs/env5/lib/python3.7/site-packages/torch/nn/_reduction.py:44: UserWarning: size_average and reduce args will be deprecated, please use reduction='sum' instead.\n",
      "  warnings.warn(warning.format(ret))\n"
     ]
    },
    {
     "name": "stdout",
     "output_type": "stream",
     "text": [
      "\n",
      "Test set: Average loss: 0.0528, Accuracy: 9836/10000 (98%)\n",
      "\n",
      "\\Other evaluation metrics on test set: Precision: 0.9835783659768478, Recall: 0.9836548988731189, F1_Score: 0.9835971592328429\n"
     ]
    },
    {
     "name": "stderr",
     "output_type": "stream",
     "text": [
      "/Users/siddhantbhambri/anaconda3/envs/env5/lib/python3.7/site-packages/torch/nn/functional.py:3448: UserWarning: Default grid_sample and affine_grid behavior has changed to align_corners=False since 1.3.0. Please specify align_corners=True if the old behavior is desired. See the documentation of grid_sample for details.\n",
      "  warnings.warn(\"Default grid_sample and affine_grid behavior has changed \"\n",
      "/Users/siddhantbhambri/anaconda3/envs/env5/lib/python3.7/site-packages/torch/nn/functional.py:3385: UserWarning: Default grid_sample and affine_grid behavior has changed to align_corners=False since 1.3.0. Please specify align_corners=True if the old behavior is desired. See the documentation of grid_sample for details.\n",
      "  warnings.warn(\"Default grid_sample and affine_grid behavior has changed \"\n"
     ]
    },
    {
     "name": "stdout",
     "output_type": "stream",
     "text": [
      "Train Epoch: 11 [0/60000 (0%)]\tLoss: 0.087281\n",
      "Train Epoch: 11 [32000/60000 (53%)]\tLoss: 0.091650\n"
     ]
    },
    {
     "name": "stderr",
     "output_type": "stream",
     "text": [
      "/Users/siddhantbhambri/anaconda3/envs/env5/lib/python3.7/site-packages/torch/nn/_reduction.py:44: UserWarning: size_average and reduce args will be deprecated, please use reduction='sum' instead.\n",
      "  warnings.warn(warning.format(ret))\n"
     ]
    },
    {
     "name": "stdout",
     "output_type": "stream",
     "text": [
      "\n",
      "Test set: Average loss: 0.0557, Accuracy: 9830/10000 (98%)\n",
      "\n",
      "\\Other evaluation metrics on test set: Precision: 0.9831474295322863, Recall: 0.9829609632135069, F1_Score: 0.983028568517639\n"
     ]
    },
    {
     "name": "stderr",
     "output_type": "stream",
     "text": [
      "/Users/siddhantbhambri/anaconda3/envs/env5/lib/python3.7/site-packages/torch/nn/functional.py:3448: UserWarning: Default grid_sample and affine_grid behavior has changed to align_corners=False since 1.3.0. Please specify align_corners=True if the old behavior is desired. See the documentation of grid_sample for details.\n",
      "  warnings.warn(\"Default grid_sample and affine_grid behavior has changed \"\n",
      "/Users/siddhantbhambri/anaconda3/envs/env5/lib/python3.7/site-packages/torch/nn/functional.py:3385: UserWarning: Default grid_sample and affine_grid behavior has changed to align_corners=False since 1.3.0. Please specify align_corners=True if the old behavior is desired. See the documentation of grid_sample for details.\n",
      "  warnings.warn(\"Default grid_sample and affine_grid behavior has changed \"\n"
     ]
    },
    {
     "name": "stdout",
     "output_type": "stream",
     "text": [
      "Train Epoch: 12 [0/60000 (0%)]\tLoss: 0.223113\n",
      "Train Epoch: 12 [32000/60000 (53%)]\tLoss: 0.260903\n"
     ]
    },
    {
     "name": "stderr",
     "output_type": "stream",
     "text": [
      "/Users/siddhantbhambri/anaconda3/envs/env5/lib/python3.7/site-packages/torch/nn/_reduction.py:44: UserWarning: size_average and reduce args will be deprecated, please use reduction='sum' instead.\n",
      "  warnings.warn(warning.format(ret))\n"
     ]
    },
    {
     "name": "stdout",
     "output_type": "stream",
     "text": [
      "\n",
      "Test set: Average loss: 0.0520, Accuracy: 9849/10000 (98%)\n",
      "\n",
      "\\Other evaluation metrics on test set: Precision: 0.9849243271812641, Recall: 0.9849662862484558, F1_Score: 0.9849294417933571\n"
     ]
    },
    {
     "name": "stderr",
     "output_type": "stream",
     "text": [
      "/Users/siddhantbhambri/anaconda3/envs/env5/lib/python3.7/site-packages/torch/nn/functional.py:3448: UserWarning: Default grid_sample and affine_grid behavior has changed to align_corners=False since 1.3.0. Please specify align_corners=True if the old behavior is desired. See the documentation of grid_sample for details.\n",
      "  warnings.warn(\"Default grid_sample and affine_grid behavior has changed \"\n",
      "/Users/siddhantbhambri/anaconda3/envs/env5/lib/python3.7/site-packages/torch/nn/functional.py:3385: UserWarning: Default grid_sample and affine_grid behavior has changed to align_corners=False since 1.3.0. Please specify align_corners=True if the old behavior is desired. See the documentation of grid_sample for details.\n",
      "  warnings.warn(\"Default grid_sample and affine_grid behavior has changed \"\n"
     ]
    },
    {
     "name": "stdout",
     "output_type": "stream",
     "text": [
      "Train Epoch: 13 [0/60000 (0%)]\tLoss: 0.131079\n",
      "Train Epoch: 13 [32000/60000 (53%)]\tLoss: 0.149385\n"
     ]
    },
    {
     "name": "stderr",
     "output_type": "stream",
     "text": [
      "/Users/siddhantbhambri/anaconda3/envs/env5/lib/python3.7/site-packages/torch/nn/_reduction.py:44: UserWarning: size_average and reduce args will be deprecated, please use reduction='sum' instead.\n",
      "  warnings.warn(warning.format(ret))\n"
     ]
    },
    {
     "name": "stdout",
     "output_type": "stream",
     "text": [
      "\n",
      "Test set: Average loss: 0.0491, Accuracy: 9862/10000 (99%)\n",
      "\n",
      "\\Other evaluation metrics on test set: Precision: 0.9863121371345287, Recall: 0.9861208505788644, F1_Score: 0.9861921497733442\n"
     ]
    },
    {
     "name": "stderr",
     "output_type": "stream",
     "text": [
      "/Users/siddhantbhambri/anaconda3/envs/env5/lib/python3.7/site-packages/torch/nn/functional.py:3448: UserWarning: Default grid_sample and affine_grid behavior has changed to align_corners=False since 1.3.0. Please specify align_corners=True if the old behavior is desired. See the documentation of grid_sample for details.\n",
      "  warnings.warn(\"Default grid_sample and affine_grid behavior has changed \"\n",
      "/Users/siddhantbhambri/anaconda3/envs/env5/lib/python3.7/site-packages/torch/nn/functional.py:3385: UserWarning: Default grid_sample and affine_grid behavior has changed to align_corners=False since 1.3.0. Please specify align_corners=True if the old behavior is desired. See the documentation of grid_sample for details.\n",
      "  warnings.warn(\"Default grid_sample and affine_grid behavior has changed \"\n"
     ]
    },
    {
     "name": "stdout",
     "output_type": "stream",
     "text": [
      "Train Epoch: 14 [0/60000 (0%)]\tLoss: 0.188988\n",
      "Train Epoch: 14 [32000/60000 (53%)]\tLoss: 0.070888\n"
     ]
    },
    {
     "name": "stderr",
     "output_type": "stream",
     "text": [
      "/Users/siddhantbhambri/anaconda3/envs/env5/lib/python3.7/site-packages/torch/nn/_reduction.py:44: UserWarning: size_average and reduce args will be deprecated, please use reduction='sum' instead.\n",
      "  warnings.warn(warning.format(ret))\n"
     ]
    },
    {
     "name": "stdout",
     "output_type": "stream",
     "text": [
      "\n",
      "Test set: Average loss: 0.0480, Accuracy: 9847/10000 (98%)\n",
      "\n",
      "\\Other evaluation metrics on test set: Precision: 0.9847808485451918, Recall: 0.9845338700020996, F1_Score: 0.984633414729123\n"
     ]
    },
    {
     "name": "stderr",
     "output_type": "stream",
     "text": [
      "/Users/siddhantbhambri/anaconda3/envs/env5/lib/python3.7/site-packages/torch/nn/functional.py:3448: UserWarning: Default grid_sample and affine_grid behavior has changed to align_corners=False since 1.3.0. Please specify align_corners=True if the old behavior is desired. See the documentation of grid_sample for details.\n",
      "  warnings.warn(\"Default grid_sample and affine_grid behavior has changed \"\n",
      "/Users/siddhantbhambri/anaconda3/envs/env5/lib/python3.7/site-packages/torch/nn/functional.py:3385: UserWarning: Default grid_sample and affine_grid behavior has changed to align_corners=False since 1.3.0. Please specify align_corners=True if the old behavior is desired. See the documentation of grid_sample for details.\n",
      "  warnings.warn(\"Default grid_sample and affine_grid behavior has changed \"\n"
     ]
    },
    {
     "name": "stdout",
     "output_type": "stream",
     "text": [
      "Train Epoch: 15 [0/60000 (0%)]\tLoss: 0.084795\n",
      "Train Epoch: 15 [32000/60000 (53%)]\tLoss: 0.188280\n"
     ]
    },
    {
     "name": "stderr",
     "output_type": "stream",
     "text": [
      "/Users/siddhantbhambri/anaconda3/envs/env5/lib/python3.7/site-packages/torch/nn/_reduction.py:44: UserWarning: size_average and reduce args will be deprecated, please use reduction='sum' instead.\n",
      "  warnings.warn(warning.format(ret))\n"
     ]
    },
    {
     "name": "stdout",
     "output_type": "stream",
     "text": [
      "\n",
      "Test set: Average loss: 0.0462, Accuracy: 9867/10000 (99%)\n",
      "\n",
      "\\Other evaluation metrics on test set: Precision: 0.9867147264874901, Recall: 0.9866151778068175, F1_Score: 0.9866556394156095\n"
     ]
    },
    {
     "name": "stderr",
     "output_type": "stream",
     "text": [
      "/Users/siddhantbhambri/anaconda3/envs/env5/lib/python3.7/site-packages/torch/nn/functional.py:3448: UserWarning: Default grid_sample and affine_grid behavior has changed to align_corners=False since 1.3.0. Please specify align_corners=True if the old behavior is desired. See the documentation of grid_sample for details.\n",
      "  warnings.warn(\"Default grid_sample and affine_grid behavior has changed \"\n",
      "/Users/siddhantbhambri/anaconda3/envs/env5/lib/python3.7/site-packages/torch/nn/functional.py:3385: UserWarning: Default grid_sample and affine_grid behavior has changed to align_corners=False since 1.3.0. Please specify align_corners=True if the old behavior is desired. See the documentation of grid_sample for details.\n",
      "  warnings.warn(\"Default grid_sample and affine_grid behavior has changed \"\n"
     ]
    },
    {
     "name": "stdout",
     "output_type": "stream",
     "text": [
      "Train Epoch: 16 [0/60000 (0%)]\tLoss: 0.081486\n",
      "Train Epoch: 16 [32000/60000 (53%)]\tLoss: 0.133723\n"
     ]
    },
    {
     "name": "stderr",
     "output_type": "stream",
     "text": [
      "/Users/siddhantbhambri/anaconda3/envs/env5/lib/python3.7/site-packages/torch/nn/_reduction.py:44: UserWarning: size_average and reduce args will be deprecated, please use reduction='sum' instead.\n",
      "  warnings.warn(warning.format(ret))\n"
     ]
    },
    {
     "name": "stdout",
     "output_type": "stream",
     "text": [
      "\n",
      "Test set: Average loss: 0.0573, Accuracy: 9822/10000 (98%)\n",
      "\n",
      "\\Other evaluation metrics on test set: Precision: 0.9822418009637331, Recall: 0.982027947318322, F1_Score: 0.9820869443250532\n"
     ]
    },
    {
     "name": "stderr",
     "output_type": "stream",
     "text": [
      "/Users/siddhantbhambri/anaconda3/envs/env5/lib/python3.7/site-packages/torch/nn/functional.py:3448: UserWarning: Default grid_sample and affine_grid behavior has changed to align_corners=False since 1.3.0. Please specify align_corners=True if the old behavior is desired. See the documentation of grid_sample for details.\n",
      "  warnings.warn(\"Default grid_sample and affine_grid behavior has changed \"\n",
      "/Users/siddhantbhambri/anaconda3/envs/env5/lib/python3.7/site-packages/torch/nn/functional.py:3385: UserWarning: Default grid_sample and affine_grid behavior has changed to align_corners=False since 1.3.0. Please specify align_corners=True if the old behavior is desired. See the documentation of grid_sample for details.\n",
      "  warnings.warn(\"Default grid_sample and affine_grid behavior has changed \"\n"
     ]
    },
    {
     "name": "stdout",
     "output_type": "stream",
     "text": [
      "Train Epoch: 17 [0/60000 (0%)]\tLoss: 0.104191\n",
      "Train Epoch: 17 [32000/60000 (53%)]\tLoss: 0.063813\n"
     ]
    },
    {
     "name": "stderr",
     "output_type": "stream",
     "text": [
      "/Users/siddhantbhambri/anaconda3/envs/env5/lib/python3.7/site-packages/torch/nn/_reduction.py:44: UserWarning: size_average and reduce args will be deprecated, please use reduction='sum' instead.\n",
      "  warnings.warn(warning.format(ret))\n"
     ]
    },
    {
     "name": "stdout",
     "output_type": "stream",
     "text": [
      "\n",
      "Test set: Average loss: 0.0422, Accuracy: 9877/10000 (99%)\n",
      "\n",
      "\\Other evaluation metrics on test set: Precision: 0.9876759617931368, Recall: 0.987711460800314, F1_Score: 0.9876836652902293\n"
     ]
    },
    {
     "name": "stderr",
     "output_type": "stream",
     "text": [
      "/Users/siddhantbhambri/anaconda3/envs/env5/lib/python3.7/site-packages/torch/nn/functional.py:3448: UserWarning: Default grid_sample and affine_grid behavior has changed to align_corners=False since 1.3.0. Please specify align_corners=True if the old behavior is desired. See the documentation of grid_sample for details.\n",
      "  warnings.warn(\"Default grid_sample and affine_grid behavior has changed \"\n",
      "/Users/siddhantbhambri/anaconda3/envs/env5/lib/python3.7/site-packages/torch/nn/functional.py:3385: UserWarning: Default grid_sample and affine_grid behavior has changed to align_corners=False since 1.3.0. Please specify align_corners=True if the old behavior is desired. See the documentation of grid_sample for details.\n",
      "  warnings.warn(\"Default grid_sample and affine_grid behavior has changed \"\n"
     ]
    },
    {
     "name": "stdout",
     "output_type": "stream",
     "text": [
      "Train Epoch: 18 [0/60000 (0%)]\tLoss: 0.156750\n",
      "Train Epoch: 18 [32000/60000 (53%)]\tLoss: 0.012955\n"
     ]
    },
    {
     "name": "stderr",
     "output_type": "stream",
     "text": [
      "/Users/siddhantbhambri/anaconda3/envs/env5/lib/python3.7/site-packages/torch/nn/_reduction.py:44: UserWarning: size_average and reduce args will be deprecated, please use reduction='sum' instead.\n",
      "  warnings.warn(warning.format(ret))\n"
     ]
    },
    {
     "name": "stdout",
     "output_type": "stream",
     "text": [
      "\n",
      "Test set: Average loss: 0.0436, Accuracy: 9877/10000 (99%)\n",
      "\n",
      "\\Other evaluation metrics on test set: Precision: 0.9877682253801483, Recall: 0.9876724444609746, F1_Score: 0.9877090614716508\n"
     ]
    },
    {
     "name": "stderr",
     "output_type": "stream",
     "text": [
      "/Users/siddhantbhambri/anaconda3/envs/env5/lib/python3.7/site-packages/torch/nn/functional.py:3448: UserWarning: Default grid_sample and affine_grid behavior has changed to align_corners=False since 1.3.0. Please specify align_corners=True if the old behavior is desired. See the documentation of grid_sample for details.\n",
      "  warnings.warn(\"Default grid_sample and affine_grid behavior has changed \"\n",
      "/Users/siddhantbhambri/anaconda3/envs/env5/lib/python3.7/site-packages/torch/nn/functional.py:3385: UserWarning: Default grid_sample and affine_grid behavior has changed to align_corners=False since 1.3.0. Please specify align_corners=True if the old behavior is desired. See the documentation of grid_sample for details.\n",
      "  warnings.warn(\"Default grid_sample and affine_grid behavior has changed \"\n"
     ]
    },
    {
     "name": "stdout",
     "output_type": "stream",
     "text": [
      "Train Epoch: 19 [0/60000 (0%)]\tLoss: 0.055265\n",
      "Train Epoch: 19 [32000/60000 (53%)]\tLoss: 0.040758\n"
     ]
    },
    {
     "name": "stderr",
     "output_type": "stream",
     "text": [
      "/Users/siddhantbhambri/anaconda3/envs/env5/lib/python3.7/site-packages/torch/nn/_reduction.py:44: UserWarning: size_average and reduce args will be deprecated, please use reduction='sum' instead.\n",
      "  warnings.warn(warning.format(ret))\n"
     ]
    },
    {
     "name": "stdout",
     "output_type": "stream",
     "text": [
      "\n",
      "Test set: Average loss: 0.0499, Accuracy: 9850/10000 (98%)\n",
      "\n",
      "\\Other evaluation metrics on test set: Precision: 0.9849797375368908, Recall: 0.9849371695738807, F1_Score: 0.9849399441915713\n"
     ]
    },
    {
     "name": "stderr",
     "output_type": "stream",
     "text": [
      "/Users/siddhantbhambri/anaconda3/envs/env5/lib/python3.7/site-packages/torch/nn/functional.py:3448: UserWarning: Default grid_sample and affine_grid behavior has changed to align_corners=False since 1.3.0. Please specify align_corners=True if the old behavior is desired. See the documentation of grid_sample for details.\n",
      "  warnings.warn(\"Default grid_sample and affine_grid behavior has changed \"\n",
      "/Users/siddhantbhambri/anaconda3/envs/env5/lib/python3.7/site-packages/torch/nn/functional.py:3385: UserWarning: Default grid_sample and affine_grid behavior has changed to align_corners=False since 1.3.0. Please specify align_corners=True if the old behavior is desired. See the documentation of grid_sample for details.\n",
      "  warnings.warn(\"Default grid_sample and affine_grid behavior has changed \"\n"
     ]
    },
    {
     "name": "stdout",
     "output_type": "stream",
     "text": [
      "Train Epoch: 20 [0/60000 (0%)]\tLoss: 0.131811\n",
      "Train Epoch: 20 [32000/60000 (53%)]\tLoss: 0.054197\n"
     ]
    },
    {
     "name": "stderr",
     "output_type": "stream",
     "text": [
      "/Users/siddhantbhambri/anaconda3/envs/env5/lib/python3.7/site-packages/torch/nn/_reduction.py:44: UserWarning: size_average and reduce args will be deprecated, please use reduction='sum' instead.\n",
      "  warnings.warn(warning.format(ret))\n"
     ]
    },
    {
     "name": "stdout",
     "output_type": "stream",
     "text": [
      "\n",
      "Test set: Average loss: 0.0404, Accuracy: 9870/10000 (99%)\n",
      "\n",
      "\\Other evaluation metrics on test set: Precision: 0.9869704863250975, Recall: 0.9868966263053321, F1_Score: 0.9869170614800101\n"
     ]
    },
    {
     "name": "stderr",
     "output_type": "stream",
     "text": [
      "/Users/siddhantbhambri/anaconda3/envs/env5/lib/python3.7/site-packages/torch/nn/functional.py:3448: UserWarning: Default grid_sample and affine_grid behavior has changed to align_corners=False since 1.3.0. Please specify align_corners=True if the old behavior is desired. See the documentation of grid_sample for details.\n",
      "  warnings.warn(\"Default grid_sample and affine_grid behavior has changed \"\n",
      "/Users/siddhantbhambri/anaconda3/envs/env5/lib/python3.7/site-packages/torch/nn/functional.py:3385: UserWarning: Default grid_sample and affine_grid behavior has changed to align_corners=False since 1.3.0. Please specify align_corners=True if the old behavior is desired. See the documentation of grid_sample for details.\n",
      "  warnings.warn(\"Default grid_sample and affine_grid behavior has changed \"\n"
     ]
    },
    {
     "data": {
      "image/png": "[encoded data removed]",
      "text/plain": [
       "<Figure size 432x288 with 2 Axes>"
      ]
     },
     "metadata": {
      "needs_background": "light"
     },
     "output_type": "display_data"
    }
   ],
   "source": [
    "def convert_image_np(inp):\n",
    "    \"\"\"Convert a Tensor to numpy image.\"\"\"\n",
    "    inp = inp.numpy().transpose((1, 2, 0))\n",
    "    mean = np.array([0.485, 0.456, 0.406])\n",
    "    std = np.array([0.229, 0.224, 0.225])\n",
    "    inp = std * inp + mean\n",
    "    inp = np.clip(inp, 0, 1)\n",
    "    return inp\n",
    "\n",
    "# We want to visualize the output of the spatial transformers layer\n",
    "# after the training, we visualize a batch of input images and\n",
    "# the corresponding transformed batch using STN.\n",
    "\n",
    "\n",
    "def visualize_stn():\n",
    "    with torch.no_grad():\n",
    "        # Get a batch of training data\n",
    "        data = next(iter(test_loader))[0].to(device)\n",
    "\n",
    "        input_tensor = data.cpu()\n",
    "        transformed_input_tensor = model.stn(data).cpu()\n",
    "\n",
    "        in_grid = convert_image_np(\n",
    "            torchvision.utils.make_grid(input_tensor))\n",
    "\n",
    "        out_grid = convert_image_np(\n",
    "            torchvision.utils.make_grid(transformed_input_tensor))\n",
    "\n",
    "        # Plot the results side-by-side\n",
    "        f, axarr = plt.subplots(1, 2)\n",
    "        axarr[0].imshow(in_grid)\n",
    "        axarr[0].set_title('Dataset Images')\n",
    "\n",
    "        axarr[1].imshow(out_grid)\n",
    "        axarr[1].set_title('Transformed Images')\n",
    "\n",
    "for epoch in range(1, 20 + 1):\n",
    "    train(epoch)\n",
    "    test()\n",
    "\n",
    "# Visualize the STN transformation on some input batch\n",
    "visualize_stn()\n",
    "\n",
    "plt.ioff()\n",
    "plt.show()\n"
   ]
  },
  {
   "cell_type": "markdown",
   "id": "318fb7e3",
   "metadata": {},
   "source": [
    "# Proposed Ideas and Solutions:"
   ]
  },
  {
   "cell_type": "markdown",
   "id": "1c7b1af7",
   "metadata": {},
   "source": [
    "# Some Proposed Pre-Processing Steps For Better Performance"
   ]
  },
  {
   "cell_type": "markdown",
   "id": "3fb79c6c",
   "metadata": {},
   "source": [
    "When the object is the image alone, neural networks for image classification will be able to train faster and better. As a result, eliminating the backgrounds from photographs is a very useful pre-processing step.\n",
    "\n",
    "Let's See this with an example."
   ]
  },
  {
   "cell_type": "code",
   "execution_count": 30,
   "id": "4ab1d7fa",
   "metadata": {},
   "outputs": [
    {
     "data": {
      "text/html": [
       "<img src=\"id1.jpg\"/>"
      ],
      "text/plain": [
       "<IPython.core.display.Image object>"
      ]
     },
     "execution_count": 30,
     "metadata": {},
     "output_type": "execute_result"
    }
   ],
   "source": [
    "Image(url= \"id1.jpg\")"
   ]
  },
  {
   "cell_type": "markdown",
   "id": "d9d0e0d6",
   "metadata": {},
   "source": [
    "From the above figure we can conclude that the background information is mostly unnessery for a network so it is much better way to make the models efficent by applying the background removal on the data.\n",
    "\n",
    "Here I am proposing a simple way to do that by using OpenCV."
   ]
  },
  {
   "cell_type": "code",
   "execution_count": 31,
   "id": "d29b05b3",
   "metadata": {},
   "outputs": [
    {
     "data": {
      "text/html": [
       "<img src=\"bgr.png\"/>"
      ],
      "text/plain": [
       "<IPython.core.display.Image object>"
      ]
     },
     "execution_count": 31,
     "metadata": {},
     "output_type": "execute_result"
    }
   ],
   "source": [
    "Image(url= \"bgr.png\")"
   ]
  },
  {
   "cell_type": "markdown",
   "id": "8455de28",
   "metadata": {},
   "source": [
    "Detailed code and implementation of this work can we found in another jupyter notebook named \"Background_removal.ipynb\"\n",
    "\n",
    "There are many other works that can be explored for better performance and better results."
   ]
  },
  {
   "cell_type": "markdown",
   "id": "b3215947",
   "metadata": {},
   "source": [
    "# Noise Reduction"
   ]
  },
  {
   "cell_type": "code",
   "execution_count": 32,
   "id": "8f3bc551",
   "metadata": {},
   "outputs": [
    {
     "data": {
      "text/html": [
       "<img src=\"dni.png\"/>"
      ],
      "text/plain": [
       "<IPython.core.display.Image object>"
      ]
     },
     "execution_count": 32,
     "metadata": {},
     "output_type": "execute_result"
    }
   ],
   "source": [
    "Image(url= \"dni.png\")"
   ]
  },
  {
   "cell_type": "markdown",
   "id": "0f5ec67f",
   "metadata": {},
   "source": [
    "One more preprocessing step can be added in the process because the person taking the image of the id card can have a bad camera which can be adding noise to the image. so anether step could be removing the noise from the image. That can be done by many ways, here I am showing to remove the sault and papper noise from the image to make it more smoother. The detailed code for the same can be found in \"denoise.ipynb\" notebook."
   ]
  },
  {
   "cell_type": "markdown",
   "id": "45587dff",
   "metadata": {},
   "source": [
    "After applying all the above preprocessing steps now we can discuss the approaches that can be explored which can be helpfull in identity varification using vision."
   ]
  },
  {
   "cell_type": "markdown",
   "id": "ce7661ba",
   "metadata": {},
   "source": [
    "# Text Isolation For Detailed Review"
   ]
  },
  {
   "cell_type": "markdown",
   "id": "ff765cc4",
   "metadata": {},
   "source": [
    "One of the approach that I would like to propose is the text isolation which cluld help in detailed review of the documents to make the processing fast and accurate. It could also help in forgery detection in the text."
   ]
  },
  {
   "cell_type": "markdown",
   "id": "62899c7a",
   "metadata": {},
   "source": [
    "In my openion applying STN along with text isolation algorithms could really helpful for analysing the documents in a better way. With the help of this we can exacty deine where we actually have to target.\n",
    "\n",
    "One of the major aplication of STNs in identity varification could be that it is not always nessery that the person who take image of his identity paperwork will take it in a proper manner, like keeping all the lines parallel, and not taking images in a different allignment. STNs can be used to correct that and improve the performance of the networks. Allignment of text and data on the document can also be used to identify the accuracy and genuinity of the document.\n",
    "\n",
    "One of the text detection algorithm I have explored is the \"TextSnake: A Flexible Representation for Detecting Text of Arbitrary Shapes (2020) (https://arxiv.org/abs/1807.01544)\". The method is capable enough for isolating text and its neighbouring region. It can be seen from the results given below.\n",
    "\n",
    "The algorithm is also capable enough to isolate any shape and structure of text which makes it a generalised way for detecting text."
   ]
  },
  {
   "cell_type": "code",
   "execution_count": 33,
   "id": "13a10b6b",
   "metadata": {},
   "outputs": [
    {
     "data": {
      "text/html": [
       "<img src=\"txi.png\"/>"
      ],
      "text/plain": [
       "<IPython.core.display.Image object>"
      ]
     },
     "execution_count": 33,
     "metadata": {},
     "output_type": "execute_result"
    }
   ],
   "source": [
    "Image(url= \"txi.png\")"
   ]
  },
  {
   "cell_type": "markdown",
   "id": "25df14f7",
   "metadata": {},
   "source": [
    "From the above image we can see that the method is capable enough to detect text and can be used to create the binary masks for the text region. Applying STN's with such kind of algorithms can be helpful for detailed analysis of the documents."
   ]
  },
  {
   "cell_type": "code",
   "execution_count": 34,
   "id": "99196f9c",
   "metadata": {},
   "outputs": [
    {
     "data": {
      "text/html": [
       "<img src=\"txi2.png\"/>"
      ],
      "text/plain": [
       "<IPython.core.display.Image object>"
      ]
     },
     "execution_count": 34,
     "metadata": {},
     "output_type": "execute_result"
    }
   ],
   "source": [
    "Image(url= \"txi2.png\")"
   ]
  },
  {
   "cell_type": "markdown",
   "id": "75d4ed6e",
   "metadata": {},
   "source": [
    "Text isolation using OCR can also be used further using thresholding on the pixels for binary mask generation can also be used but it is more helpful if the text is straight in line."
   ]
  },
  {
   "cell_type": "markdown",
   "id": "d4a31888",
   "metadata": {},
   "source": [
    "# Algorithm Deployed On A Real Life Condition:"
   ]
  },
  {
   "cell_type": "code",
   "execution_count": 8,
   "id": "4b408cd8",
   "metadata": {},
   "outputs": [
    {
     "data": {
      "text/html": [
       "<img src=\"ve1.png\"/>"
      ],
      "text/plain": [
       "<IPython.core.display.Image object>"
      ]
     },
     "execution_count": 8,
     "metadata": {},
     "output_type": "execute_result"
    }
   ],
   "source": [
    "from IPython.display import Image\n",
    "Image(url= \"ve1.png\")"
   ]
  },
  {
   "cell_type": "markdown",
   "id": "a5ebcd52",
   "metadata": {},
   "source": [
    "# SIFT (Scale-Invariant Feature Transform)"
   ]
  },
  {
   "cell_type": "markdown",
   "id": "2789ea98",
   "metadata": {},
   "source": [
    "The scale-invariant feature transform (SIFT) is a computer vision algorithm to detect, describe, and match local features in images.\n",
    "\n",
    "The biggest advantage of the SIFT is that they proposed the concept of Distinctive Image Features from Scale-Invariant key-points which proved to be an advantage in the conditions when the images are having different augmentations like rotation, scaling, etc."
   ]
  },
  {
   "cell_type": "code",
   "execution_count": 9,
   "id": "d430c268",
   "metadata": {},
   "outputs": [
    {
     "data": {
      "text/html": [
       "<img src=\"sift.png\"/>"
      ],
      "text/plain": [
       "<IPython.core.display.Image object>"
      ]
     },
     "execution_count": 9,
     "metadata": {},
     "output_type": "execute_result"
    }
   ],
   "source": [
    "Image(url= \"sift.png\")"
   ]
  },
  {
   "cell_type": "markdown",
   "id": "9c966e6f",
   "metadata": {},
   "source": [
    "• Scale-Space Extrema Detection: In SIFT algorithm to detect larger corners we need larger windows. For this, scale-space filtering is used.\n",
    "\n",
    "• Keypoint Localization: Once potential keypoints locations are found, they have to be refined to get more accurate results. They used Taylor series expansion of scale space to get more accurate location of extrema, and if the intensity at this extrema is less than a threshold value (0.03 as per the paper), it is rejected.\n",
    "\n",
    "• Orientation Assignment: Now an orientation is assigned to each keypoint to achieve invariance to image rotation. A neighborhood is taken around the keypoint location depending on the scale, and the gradient magnitude and direction is calculated in that region.\n",
    "\n",
    "• Keypoint Descriptor: Now keypoint descriptor is created. A 16x16 neighbourhood around the keypoint is taken. It is divided into 16 sub-blocks of 4x4 size. For each sub-block, 8 bin orientation histogram is created.\n",
    "\n",
    "• Keypoint Matching: Keypoints between two images are matched by identifying their nearest neighbours.\n"
   ]
  },
  {
   "cell_type": "markdown",
   "id": "a78b9490",
   "metadata": {},
   "source": [
    "This is one of the approach I would like to propose which could be very helpfull in detecting minute things in the documentation. It is also invariant to augmentations hence could be used. The results shown above are on painting dataset and it can be seen that the scale is not a problem here."
   ]
  },
  {
   "cell_type": "code",
   "execution_count": null,
   "id": "4f397817",
   "metadata": {},
   "outputs": [],
   "source": []
  }
 ],
 "metadata": {
  "kernelspec": {
   "display_name": "Python 3",
   "language": "python",
   "name": "python3"
  },
  "language_info": {
   "codemirror_mode": {
    "name": "ipython",
    "version": 3
   },
   "file_extension": ".py",
   "mimetype": "text/x-python",
   "name": "python",
   "nbconvert_exporter": "python",
   "pygments_lexer": "ipython3",
   "version": "3.7.10"
  }
 },
 "nbformat": 4,
 "nbformat_minor": 5
}
