{
 "cells": [
  {
   "cell_type": "markdown",
   "metadata": {},
   "source": [
    "# Image Noise Removal"
   ]
  },
  {
   "cell_type": "markdown",
   "metadata": {},
   "source": [
    "Here we are using OpenCV library for implementing some basic noise removal and image smoothining techiniques. Initially we are applying gaussion blur for smoothning of the image and further applying median filter for the removal of saltpapper noise."
   ]
  },
  {
   "cell_type": "code",
   "execution_count": 2,
   "metadata": {},
   "outputs": [
    {
     "data": {
      "text/html": [
       "<img src=\"dni.png\"/>"
      ],
      "text/plain": [
       "<IPython.core.display.Image object>"
      ]
     },
     "execution_count": 2,
     "metadata": {},
     "output_type": "execute_result"
    }
   ],
   "source": [
    "from IPython.display import Image\n",
    "Image(url= \"dni.png\")"
   ]
  },
  {
   "cell_type": "code",
   "execution_count": 1,
   "metadata": {
    "scrolled": true
   },
   "outputs": [
    {
     "name": "stdout",
     "output_type": "stream",
     "text": [
      "0\n",
      "1\n",
      "2\n",
      "3\n",
      "4\n",
      "5\n",
      "6\n",
      "7\n",
      "8\n",
      "9\n",
      "10\n",
      "11\n",
      "12\n",
      "13\n",
      "14\n",
      "15\n",
      "16\n",
      "17\n",
      "18\n",
      "19\n",
      "20\n",
      "21\n",
      "22\n",
      "23\n",
      "24\n",
      "25\n",
      "26\n",
      "27\n",
      "28\n",
      "29\n",
      "30\n",
      "31\n",
      "32\n",
      "33\n",
      "34\n",
      "35\n",
      "36\n",
      "37\n",
      "38\n",
      "39\n",
      "40\n",
      "41\n",
      "42\n",
      "43\n",
      "44\n",
      "45\n",
      "46\n",
      "47\n",
      "48\n",
      "49\n"
     ]
    }
   ],
   "source": [
    "# Importing the liberaries.\n",
    "import os\n",
    "import pickle\n",
    "import numpy as np\n",
    "from PIL import Image\n",
    "import numpy as np\n",
    "import cv2\n",
    "from cv2 import ximgproc\n",
    "\n",
    "\n",
    "for tt in range(50):\n",
    "    print(tt)\n",
    "    if tt<10:\n",
    "        file_name = '0000{}.jpg'.format(tt)\n",
    "        file_name1 = '0000{}.png'.format(tt)\n",
    "    else:\n",
    "        file_name = '000{}.jpg'.format(tt)\n",
    "        file_name1 = '000{}.png'.format(tt)\n",
    "\n",
    "    image_vec = cv2.imread('/Users/siddhantbhambri/Downloads/qst1_w5/{}'.format(file_name), 1)\n",
    "    image_vec = np.asarray(image_vec, np.uint8)\n",
    "    \n",
    "    # Applying gaussion blur for image smoothning.\n",
    "    g_blurred = cv2.GaussianBlur(image_vec, (5, 5), 0)\n",
    "    \n",
    "    # Applying median blur.\n",
    "    m_blurred = cv2.medianBlur(image_vec,3)\n",
    "         \n",
    "    \n",
    "    def SaltPepperNoise(img):\n",
    "        count = 0\n",
    "        lastMedian = img\n",
    "        median = cv2.medianBlur(img, 3)\n",
    "        while not np.array_equal(lastMedian, median):\n",
    "            zeroed = np.invert(np.logical_and(median, img))\n",
    "            img[zeroed] = 0\n",
    "            count = count + 1\n",
    "            if count > 70:\n",
    "                break\n",
    "            lastMedian = median\n",
    "            median = cv2.medianBlur(img, 3)\n",
    "        return median\n",
    "            \n",
    "\n",
    "    m_blurred=SaltPepperNoise(m_blurred)\n",
    "    \n",
    "    # Saving the results\n",
    "    cv2.imwrite('/Users/siddhantbhambri/Downloads/qst1_w5/denoised_img_both/{}'.format(file_name), m_blurred)\n",
    "    \n",
    "#     Image.open('file_name.jpg').convert('RGB')\n"
   ]
  },
  {
   "cell_type": "code",
   "execution_count": null,
   "metadata": {},
   "outputs": [],
   "source": []
  },
  {
   "cell_type": "code",
   "execution_count": null,
   "metadata": {},
   "outputs": [],
   "source": []
  }
 ],
 "metadata": {
  "kernelspec": {
   "display_name": "Python 3",
   "language": "python",
   "name": "python3"
  },
  "language_info": {
   "codemirror_mode": {
    "name": "ipython",
    "version": 3
   },
   "file_extension": ".py",
   "mimetype": "text/x-python",
   "name": "python",
   "nbconvert_exporter": "python",
   "pygments_lexer": "ipython3",
   "version": "3.7.10"
  }
 },
 "nbformat": 4,
 "nbformat_minor": 2
}
